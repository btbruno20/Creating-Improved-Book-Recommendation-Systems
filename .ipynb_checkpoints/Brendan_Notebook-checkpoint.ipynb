{
 "cells": [
  {
   "cell_type": "code",
   "execution_count": 1,
   "id": "0d3f0d2d",
   "metadata": {},
   "outputs": [],
   "source": [
    "import numpy as np\n",
    "import pandas as pd\n",
    "import matplotlib.pyplot as plt\n",
    "import seaborn as sns\n",
    "from tabulate import tabulate\n",
    "from surprise.model_selection import cross_validate\n",
    "from surprise.prediction_algorithms import SVD\n",
    "from surprise.prediction_algorithms import KNNWithMeans, KNNBasic, KNNBaseline\n",
    "from surprise.model_selection import GridSearchCV\n",
    "from surprise import Dataset, Reader, BaselineOnly\n",
    "from surprise import accuracy\n",
    "from surprise.model_selection.split import train_test_split\n"
   ]
  },
  {
   "cell_type": "code",
   "execution_count": 2,
   "id": "2225d586",
   "metadata": {},
   "outputs": [
    {
     "name": "stderr",
     "output_type": "stream",
     "text": [
      "<ipython-input-2-cc0600c3bb60>:1: DtypeWarning: Columns (3) have mixed types. Specify dtype option on import or set low_memory=False.\n",
      "  Books = pd.read_csv(\"data/Books.csv\")\n"
     ]
    }
   ],
   "source": [
    "Books = pd.read_csv(\"data/Books.csv\")"
   ]
  },
  {
   "cell_type": "code",
   "execution_count": 3,
   "id": "d8153dca",
   "metadata": {},
   "outputs": [
    {
     "data": {
      "text/html": [
       "<div>\n",
       "<style scoped>\n",
       "    .dataframe tbody tr th:only-of-type {\n",
       "        vertical-align: middle;\n",
       "    }\n",
       "\n",
       "    .dataframe tbody tr th {\n",
       "        vertical-align: top;\n",
       "    }\n",
       "\n",
       "    .dataframe thead th {\n",
       "        text-align: right;\n",
       "    }\n",
       "</style>\n",
       "<table border=\"1\" class=\"dataframe\">\n",
       "  <thead>\n",
       "    <tr style=\"text-align: right;\">\n",
       "      <th></th>\n",
       "      <th>ISBN</th>\n",
       "      <th>Book-Title</th>\n",
       "      <th>Book-Author</th>\n",
       "      <th>Year-Of-Publication</th>\n",
       "      <th>Publisher</th>\n",
       "      <th>Image-URL-S</th>\n",
       "      <th>Image-URL-M</th>\n",
       "      <th>Image-URL-L</th>\n",
       "    </tr>\n",
       "  </thead>\n",
       "  <tbody>\n",
       "    <tr>\n",
       "      <th>0</th>\n",
       "      <td>0195153448</td>\n",
       "      <td>Classical Mythology</td>\n",
       "      <td>Mark P. O. Morford</td>\n",
       "      <td>2002</td>\n",
       "      <td>Oxford University Press</td>\n",
       "      <td>http://images.amazon.com/images/P/0195153448.0...</td>\n",
       "      <td>http://images.amazon.com/images/P/0195153448.0...</td>\n",
       "      <td>http://images.amazon.com/images/P/0195153448.0...</td>\n",
       "    </tr>\n",
       "    <tr>\n",
       "      <th>1</th>\n",
       "      <td>0002005018</td>\n",
       "      <td>Clara Callan</td>\n",
       "      <td>Richard Bruce Wright</td>\n",
       "      <td>2001</td>\n",
       "      <td>HarperFlamingo Canada</td>\n",
       "      <td>http://images.amazon.com/images/P/0002005018.0...</td>\n",
       "      <td>http://images.amazon.com/images/P/0002005018.0...</td>\n",
       "      <td>http://images.amazon.com/images/P/0002005018.0...</td>\n",
       "    </tr>\n",
       "    <tr>\n",
       "      <th>2</th>\n",
       "      <td>0060973129</td>\n",
       "      <td>Decision in Normandy</td>\n",
       "      <td>Carlo D'Este</td>\n",
       "      <td>1991</td>\n",
       "      <td>HarperPerennial</td>\n",
       "      <td>http://images.amazon.com/images/P/0060973129.0...</td>\n",
       "      <td>http://images.amazon.com/images/P/0060973129.0...</td>\n",
       "      <td>http://images.amazon.com/images/P/0060973129.0...</td>\n",
       "    </tr>\n",
       "    <tr>\n",
       "      <th>3</th>\n",
       "      <td>0374157065</td>\n",
       "      <td>Flu: The Story of the Great Influenza Pandemic...</td>\n",
       "      <td>Gina Bari Kolata</td>\n",
       "      <td>1999</td>\n",
       "      <td>Farrar Straus Giroux</td>\n",
       "      <td>http://images.amazon.com/images/P/0374157065.0...</td>\n",
       "      <td>http://images.amazon.com/images/P/0374157065.0...</td>\n",
       "      <td>http://images.amazon.com/images/P/0374157065.0...</td>\n",
       "    </tr>\n",
       "    <tr>\n",
       "      <th>4</th>\n",
       "      <td>0393045218</td>\n",
       "      <td>The Mummies of Urumchi</td>\n",
       "      <td>E. J. W. Barber</td>\n",
       "      <td>1999</td>\n",
       "      <td>W. W. Norton &amp;amp; Company</td>\n",
       "      <td>http://images.amazon.com/images/P/0393045218.0...</td>\n",
       "      <td>http://images.amazon.com/images/P/0393045218.0...</td>\n",
       "      <td>http://images.amazon.com/images/P/0393045218.0...</td>\n",
       "    </tr>\n",
       "  </tbody>\n",
       "</table>\n",
       "</div>"
      ],
      "text/plain": [
       "         ISBN                                         Book-Title  \\\n",
       "0  0195153448                                Classical Mythology   \n",
       "1  0002005018                                       Clara Callan   \n",
       "2  0060973129                               Decision in Normandy   \n",
       "3  0374157065  Flu: The Story of the Great Influenza Pandemic...   \n",
       "4  0393045218                             The Mummies of Urumchi   \n",
       "\n",
       "            Book-Author Year-Of-Publication                   Publisher  \\\n",
       "0    Mark P. O. Morford                2002     Oxford University Press   \n",
       "1  Richard Bruce Wright                2001       HarperFlamingo Canada   \n",
       "2          Carlo D'Este                1991             HarperPerennial   \n",
       "3      Gina Bari Kolata                1999        Farrar Straus Giroux   \n",
       "4       E. J. W. Barber                1999  W. W. Norton &amp; Company   \n",
       "\n",
       "                                         Image-URL-S  \\\n",
       "0  http://images.amazon.com/images/P/0195153448.0...   \n",
       "1  http://images.amazon.com/images/P/0002005018.0...   \n",
       "2  http://images.amazon.com/images/P/0060973129.0...   \n",
       "3  http://images.amazon.com/images/P/0374157065.0...   \n",
       "4  http://images.amazon.com/images/P/0393045218.0...   \n",
       "\n",
       "                                         Image-URL-M  \\\n",
       "0  http://images.amazon.com/images/P/0195153448.0...   \n",
       "1  http://images.amazon.com/images/P/0002005018.0...   \n",
       "2  http://images.amazon.com/images/P/0060973129.0...   \n",
       "3  http://images.amazon.com/images/P/0374157065.0...   \n",
       "4  http://images.amazon.com/images/P/0393045218.0...   \n",
       "\n",
       "                                         Image-URL-L  \n",
       "0  http://images.amazon.com/images/P/0195153448.0...  \n",
       "1  http://images.amazon.com/images/P/0002005018.0...  \n",
       "2  http://images.amazon.com/images/P/0060973129.0...  \n",
       "3  http://images.amazon.com/images/P/0374157065.0...  \n",
       "4  http://images.amazon.com/images/P/0393045218.0...  "
      ]
     },
     "execution_count": 3,
     "metadata": {},
     "output_type": "execute_result"
    }
   ],
   "source": [
    "Books.head()"
   ]
  },
  {
   "cell_type": "code",
   "execution_count": 4,
   "id": "3536feba",
   "metadata": {},
   "outputs": [
    {
     "name": "stdout",
     "output_type": "stream",
     "text": [
      "<class 'pandas.core.frame.DataFrame'>\n",
      "RangeIndex: 271360 entries, 0 to 271359\n",
      "Data columns (total 8 columns):\n",
      " #   Column               Non-Null Count   Dtype \n",
      "---  ------               --------------   ----- \n",
      " 0   ISBN                 271360 non-null  object\n",
      " 1   Book-Title           271360 non-null  object\n",
      " 2   Book-Author          271359 non-null  object\n",
      " 3   Year-Of-Publication  271360 non-null  object\n",
      " 4   Publisher            271358 non-null  object\n",
      " 5   Image-URL-S          271360 non-null  object\n",
      " 6   Image-URL-M          271360 non-null  object\n",
      " 7   Image-URL-L          271357 non-null  object\n",
      "dtypes: object(8)\n",
      "memory usage: 16.6+ MB\n"
     ]
    }
   ],
   "source": [
    "Books.info()"
   ]
  },
  {
   "cell_type": "code",
   "execution_count": 5,
   "id": "c70d5100",
   "metadata": {},
   "outputs": [],
   "source": [
    "Ratings = pd.read_csv(\"data/Ratings.csv\")"
   ]
  },
  {
   "cell_type": "code",
   "execution_count": 6,
   "id": "e8c3dd26",
   "metadata": {},
   "outputs": [],
   "source": [
    "Ratings = Ratings.rename(columns={'User-ID': 'User'})"
   ]
  },
  {
   "cell_type": "code",
   "execution_count": 7,
   "id": "3cd09c1d",
   "metadata": {},
   "outputs": [
    {
     "data": {
      "text/html": [
       "<div>\n",
       "<style scoped>\n",
       "    .dataframe tbody tr th:only-of-type {\n",
       "        vertical-align: middle;\n",
       "    }\n",
       "\n",
       "    .dataframe tbody tr th {\n",
       "        vertical-align: top;\n",
       "    }\n",
       "\n",
       "    .dataframe thead th {\n",
       "        text-align: right;\n",
       "    }\n",
       "</style>\n",
       "<table border=\"1\" class=\"dataframe\">\n",
       "  <thead>\n",
       "    <tr style=\"text-align: right;\">\n",
       "      <th></th>\n",
       "      <th>User</th>\n",
       "      <th>ISBN</th>\n",
       "      <th>Book-Rating</th>\n",
       "    </tr>\n",
       "  </thead>\n",
       "  <tbody>\n",
       "    <tr>\n",
       "      <th>0</th>\n",
       "      <td>276725</td>\n",
       "      <td>034545104X</td>\n",
       "      <td>0</td>\n",
       "    </tr>\n",
       "    <tr>\n",
       "      <th>1</th>\n",
       "      <td>276726</td>\n",
       "      <td>0155061224</td>\n",
       "      <td>5</td>\n",
       "    </tr>\n",
       "    <tr>\n",
       "      <th>2</th>\n",
       "      <td>276727</td>\n",
       "      <td>0446520802</td>\n",
       "      <td>0</td>\n",
       "    </tr>\n",
       "    <tr>\n",
       "      <th>3</th>\n",
       "      <td>276729</td>\n",
       "      <td>052165615X</td>\n",
       "      <td>3</td>\n",
       "    </tr>\n",
       "    <tr>\n",
       "      <th>4</th>\n",
       "      <td>276729</td>\n",
       "      <td>0521795028</td>\n",
       "      <td>6</td>\n",
       "    </tr>\n",
       "  </tbody>\n",
       "</table>\n",
       "</div>"
      ],
      "text/plain": [
       "     User        ISBN  Book-Rating\n",
       "0  276725  034545104X            0\n",
       "1  276726  0155061224            5\n",
       "2  276727  0446520802            0\n",
       "3  276729  052165615X            3\n",
       "4  276729  0521795028            6"
      ]
     },
     "execution_count": 7,
     "metadata": {},
     "output_type": "execute_result"
    }
   ],
   "source": [
    "Ratings.head()"
   ]
  },
  {
   "cell_type": "code",
   "execution_count": 8,
   "id": "af820d69",
   "metadata": {},
   "outputs": [
    {
     "name": "stdout",
     "output_type": "stream",
     "text": [
      "<class 'pandas.core.frame.DataFrame'>\n",
      "RangeIndex: 1149780 entries, 0 to 1149779\n",
      "Data columns (total 3 columns):\n",
      " #   Column       Non-Null Count    Dtype \n",
      "---  ------       --------------    ----- \n",
      " 0   User         1149780 non-null  int64 \n",
      " 1   ISBN         1149780 non-null  object\n",
      " 2   Book-Rating  1149780 non-null  int64 \n",
      "dtypes: int64(2), object(1)\n",
      "memory usage: 26.3+ MB\n"
     ]
    }
   ],
   "source": [
    "Ratings.info()"
   ]
  },
  {
   "cell_type": "code",
   "execution_count": 9,
   "id": "7e0a90ad",
   "metadata": {},
   "outputs": [],
   "source": [
    "Users = pd.read_csv(\"data/Users.csv\")"
   ]
  },
  {
   "cell_type": "code",
   "execution_count": 10,
   "id": "1414e9f9",
   "metadata": {},
   "outputs": [],
   "source": [
    "Users = Users.rename(columns={'User-ID': 'User'})"
   ]
  },
  {
   "cell_type": "code",
   "execution_count": 11,
   "id": "c21b24c2",
   "metadata": {},
   "outputs": [
    {
     "data": {
      "text/html": [
       "<div>\n",
       "<style scoped>\n",
       "    .dataframe tbody tr th:only-of-type {\n",
       "        vertical-align: middle;\n",
       "    }\n",
       "\n",
       "    .dataframe tbody tr th {\n",
       "        vertical-align: top;\n",
       "    }\n",
       "\n",
       "    .dataframe thead th {\n",
       "        text-align: right;\n",
       "    }\n",
       "</style>\n",
       "<table border=\"1\" class=\"dataframe\">\n",
       "  <thead>\n",
       "    <tr style=\"text-align: right;\">\n",
       "      <th></th>\n",
       "      <th>User</th>\n",
       "      <th>Location</th>\n",
       "      <th>Age</th>\n",
       "    </tr>\n",
       "  </thead>\n",
       "  <tbody>\n",
       "    <tr>\n",
       "      <th>0</th>\n",
       "      <td>1</td>\n",
       "      <td>nyc, new york, usa</td>\n",
       "      <td>NaN</td>\n",
       "    </tr>\n",
       "    <tr>\n",
       "      <th>1</th>\n",
       "      <td>2</td>\n",
       "      <td>stockton, california, usa</td>\n",
       "      <td>18.0</td>\n",
       "    </tr>\n",
       "    <tr>\n",
       "      <th>2</th>\n",
       "      <td>3</td>\n",
       "      <td>moscow, yukon territory, russia</td>\n",
       "      <td>NaN</td>\n",
       "    </tr>\n",
       "    <tr>\n",
       "      <th>3</th>\n",
       "      <td>4</td>\n",
       "      <td>porto, v.n.gaia, portugal</td>\n",
       "      <td>17.0</td>\n",
       "    </tr>\n",
       "    <tr>\n",
       "      <th>4</th>\n",
       "      <td>5</td>\n",
       "      <td>farnborough, hants, united kingdom</td>\n",
       "      <td>NaN</td>\n",
       "    </tr>\n",
       "  </tbody>\n",
       "</table>\n",
       "</div>"
      ],
      "text/plain": [
       "   User                            Location   Age\n",
       "0     1                  nyc, new york, usa   NaN\n",
       "1     2           stockton, california, usa  18.0\n",
       "2     3     moscow, yukon territory, russia   NaN\n",
       "3     4           porto, v.n.gaia, portugal  17.0\n",
       "4     5  farnborough, hants, united kingdom   NaN"
      ]
     },
     "execution_count": 11,
     "metadata": {},
     "output_type": "execute_result"
    }
   ],
   "source": [
    "Users.head()"
   ]
  },
  {
   "cell_type": "code",
   "execution_count": 12,
   "id": "d1e439cd",
   "metadata": {},
   "outputs": [
    {
     "name": "stdout",
     "output_type": "stream",
     "text": [
      "<class 'pandas.core.frame.DataFrame'>\n",
      "RangeIndex: 278858 entries, 0 to 278857\n",
      "Data columns (total 3 columns):\n",
      " #   Column    Non-Null Count   Dtype  \n",
      "---  ------    --------------   -----  \n",
      " 0   User      278858 non-null  int64  \n",
      " 1   Location  278858 non-null  object \n",
      " 2   Age       168096 non-null  float64\n",
      "dtypes: float64(1), int64(1), object(1)\n",
      "memory usage: 6.4+ MB\n"
     ]
    }
   ],
   "source": [
    "Users.info()"
   ]
  },
  {
   "cell_type": "code",
   "execution_count": 13,
   "id": "aaeefd2b",
   "metadata": {},
   "outputs": [],
   "source": [
    "Books_slim = Books.drop(columns=['Image-URL-S', 'Image-URL-M', 'Image-URL-L'])"
   ]
  },
  {
   "cell_type": "code",
   "execution_count": 14,
   "id": "79229f82",
   "metadata": {},
   "outputs": [
    {
     "data": {
      "text/html": [
       "<div>\n",
       "<style scoped>\n",
       "    .dataframe tbody tr th:only-of-type {\n",
       "        vertical-align: middle;\n",
       "    }\n",
       "\n",
       "    .dataframe tbody tr th {\n",
       "        vertical-align: top;\n",
       "    }\n",
       "\n",
       "    .dataframe thead th {\n",
       "        text-align: right;\n",
       "    }\n",
       "</style>\n",
       "<table border=\"1\" class=\"dataframe\">\n",
       "  <thead>\n",
       "    <tr style=\"text-align: right;\">\n",
       "      <th></th>\n",
       "      <th>ISBN</th>\n",
       "      <th>Title</th>\n",
       "      <th>Author</th>\n",
       "      <th>Year-Of-Publication</th>\n",
       "      <th>Publisher</th>\n",
       "    </tr>\n",
       "  </thead>\n",
       "  <tbody>\n",
       "    <tr>\n",
       "      <th>0</th>\n",
       "      <td>0195153448</td>\n",
       "      <td>Classical Mythology</td>\n",
       "      <td>Mark P. O. Morford</td>\n",
       "      <td>2002</td>\n",
       "      <td>Oxford University Press</td>\n",
       "    </tr>\n",
       "    <tr>\n",
       "      <th>1</th>\n",
       "      <td>0002005018</td>\n",
       "      <td>Clara Callan</td>\n",
       "      <td>Richard Bruce Wright</td>\n",
       "      <td>2001</td>\n",
       "      <td>HarperFlamingo Canada</td>\n",
       "    </tr>\n",
       "    <tr>\n",
       "      <th>2</th>\n",
       "      <td>0060973129</td>\n",
       "      <td>Decision in Normandy</td>\n",
       "      <td>Carlo D'Este</td>\n",
       "      <td>1991</td>\n",
       "      <td>HarperPerennial</td>\n",
       "    </tr>\n",
       "    <tr>\n",
       "      <th>3</th>\n",
       "      <td>0374157065</td>\n",
       "      <td>Flu: The Story of the Great Influenza Pandemic...</td>\n",
       "      <td>Gina Bari Kolata</td>\n",
       "      <td>1999</td>\n",
       "      <td>Farrar Straus Giroux</td>\n",
       "    </tr>\n",
       "    <tr>\n",
       "      <th>4</th>\n",
       "      <td>0393045218</td>\n",
       "      <td>The Mummies of Urumchi</td>\n",
       "      <td>E. J. W. Barber</td>\n",
       "      <td>1999</td>\n",
       "      <td>W. W. Norton &amp;amp; Company</td>\n",
       "    </tr>\n",
       "  </tbody>\n",
       "</table>\n",
       "</div>"
      ],
      "text/plain": [
       "         ISBN                                              Title  \\\n",
       "0  0195153448                                Classical Mythology   \n",
       "1  0002005018                                       Clara Callan   \n",
       "2  0060973129                               Decision in Normandy   \n",
       "3  0374157065  Flu: The Story of the Great Influenza Pandemic...   \n",
       "4  0393045218                             The Mummies of Urumchi   \n",
       "\n",
       "                 Author Year-Of-Publication                   Publisher  \n",
       "0    Mark P. O. Morford                2002     Oxford University Press  \n",
       "1  Richard Bruce Wright                2001       HarperFlamingo Canada  \n",
       "2          Carlo D'Este                1991             HarperPerennial  \n",
       "3      Gina Bari Kolata                1999        Farrar Straus Giroux  \n",
       "4       E. J. W. Barber                1999  W. W. Norton &amp; Company  "
      ]
     },
     "execution_count": 14,
     "metadata": {},
     "output_type": "execute_result"
    }
   ],
   "source": [
    "Books_slim = Books_slim.rename(columns={'Book-Title': 'Title', 'Book-Author': 'Author'})\n",
    "Books_slim.head()"
   ]
  },
  {
   "cell_type": "code",
   "execution_count": 15,
   "id": "5c7e6a79",
   "metadata": {},
   "outputs": [
    {
     "name": "stdout",
     "output_type": "stream",
     "text": [
      "<class 'pandas.core.frame.DataFrame'>\n",
      "RangeIndex: 271360 entries, 0 to 271359\n",
      "Data columns (total 5 columns):\n",
      " #   Column               Non-Null Count   Dtype \n",
      "---  ------               --------------   ----- \n",
      " 0   ISBN                 271360 non-null  object\n",
      " 1   Title                271360 non-null  object\n",
      " 2   Author               271359 non-null  object\n",
      " 3   Year-Of-Publication  271360 non-null  object\n",
      " 4   Publisher            271358 non-null  object\n",
      "dtypes: object(5)\n",
      "memory usage: 10.4+ MB\n"
     ]
    }
   ],
   "source": [
    "Books_slim.info()"
   ]
  },
  {
   "cell_type": "code",
   "execution_count": 16,
   "id": "b01efc2f",
   "metadata": {},
   "outputs": [],
   "source": [
    "Users_and_Ratings = Users.merge(Ratings, how = 'left', on = 'User')"
   ]
  },
  {
   "cell_type": "code",
   "execution_count": 17,
   "id": "debcda9d",
   "metadata": {},
   "outputs": [
    {
     "data": {
      "text/html": [
       "<div>\n",
       "<style scoped>\n",
       "    .dataframe tbody tr th:only-of-type {\n",
       "        vertical-align: middle;\n",
       "    }\n",
       "\n",
       "    .dataframe tbody tr th {\n",
       "        vertical-align: top;\n",
       "    }\n",
       "\n",
       "    .dataframe thead th {\n",
       "        text-align: right;\n",
       "    }\n",
       "</style>\n",
       "<table border=\"1\" class=\"dataframe\">\n",
       "  <thead>\n",
       "    <tr style=\"text-align: right;\">\n",
       "      <th></th>\n",
       "      <th>User</th>\n",
       "      <th>Location</th>\n",
       "      <th>Age</th>\n",
       "      <th>ISBN</th>\n",
       "      <th>Book-Rating</th>\n",
       "    </tr>\n",
       "  </thead>\n",
       "  <tbody>\n",
       "    <tr>\n",
       "      <th>0</th>\n",
       "      <td>1</td>\n",
       "      <td>nyc, new york, usa</td>\n",
       "      <td>NaN</td>\n",
       "      <td>NaN</td>\n",
       "      <td>NaN</td>\n",
       "    </tr>\n",
       "    <tr>\n",
       "      <th>1</th>\n",
       "      <td>2</td>\n",
       "      <td>stockton, california, usa</td>\n",
       "      <td>18.0</td>\n",
       "      <td>0195153448</td>\n",
       "      <td>0.0</td>\n",
       "    </tr>\n",
       "    <tr>\n",
       "      <th>2</th>\n",
       "      <td>3</td>\n",
       "      <td>moscow, yukon territory, russia</td>\n",
       "      <td>NaN</td>\n",
       "      <td>NaN</td>\n",
       "      <td>NaN</td>\n",
       "    </tr>\n",
       "    <tr>\n",
       "      <th>3</th>\n",
       "      <td>4</td>\n",
       "      <td>porto, v.n.gaia, portugal</td>\n",
       "      <td>17.0</td>\n",
       "      <td>NaN</td>\n",
       "      <td>NaN</td>\n",
       "    </tr>\n",
       "    <tr>\n",
       "      <th>4</th>\n",
       "      <td>5</td>\n",
       "      <td>farnborough, hants, united kingdom</td>\n",
       "      <td>NaN</td>\n",
       "      <td>NaN</td>\n",
       "      <td>NaN</td>\n",
       "    </tr>\n",
       "  </tbody>\n",
       "</table>\n",
       "</div>"
      ],
      "text/plain": [
       "   User                            Location   Age        ISBN  Book-Rating\n",
       "0     1                  nyc, new york, usa   NaN         NaN          NaN\n",
       "1     2           stockton, california, usa  18.0  0195153448          0.0\n",
       "2     3     moscow, yukon territory, russia   NaN         NaN          NaN\n",
       "3     4           porto, v.n.gaia, portugal  17.0         NaN          NaN\n",
       "4     5  farnborough, hants, united kingdom   NaN         NaN          NaN"
      ]
     },
     "execution_count": 17,
     "metadata": {},
     "output_type": "execute_result"
    }
   ],
   "source": [
    "Users_and_Ratings.head()"
   ]
  },
  {
   "cell_type": "code",
   "execution_count": 18,
   "id": "9d4d0bdd",
   "metadata": {},
   "outputs": [
    {
     "name": "stdout",
     "output_type": "stream",
     "text": [
      "<class 'pandas.core.frame.DataFrame'>\n",
      "Int64Index: 1323355 entries, 0 to 1323354\n",
      "Data columns (total 5 columns):\n",
      " #   Column       Non-Null Count    Dtype  \n",
      "---  ------       --------------    -----  \n",
      " 0   User         1323355 non-null  int64  \n",
      " 1   Location     1323355 non-null  object \n",
      " 2   Age          946277 non-null   float64\n",
      " 3   ISBN         1149780 non-null  object \n",
      " 4   Book-Rating  1149780 non-null  float64\n",
      "dtypes: float64(2), int64(1), object(2)\n",
      "memory usage: 60.6+ MB\n"
     ]
    }
   ],
   "source": [
    "Users_and_Ratings.info()"
   ]
  },
  {
   "cell_type": "code",
   "execution_count": 19,
   "id": "a167b7cc",
   "metadata": {},
   "outputs": [
    {
     "data": {
      "text/html": [
       "<div>\n",
       "<style scoped>\n",
       "    .dataframe tbody tr th:only-of-type {\n",
       "        vertical-align: middle;\n",
       "    }\n",
       "\n",
       "    .dataframe tbody tr th {\n",
       "        vertical-align: top;\n",
       "    }\n",
       "\n",
       "    .dataframe thead th {\n",
       "        text-align: right;\n",
       "    }\n",
       "</style>\n",
       "<table border=\"1\" class=\"dataframe\">\n",
       "  <thead>\n",
       "    <tr style=\"text-align: right;\">\n",
       "      <th></th>\n",
       "      <th>User</th>\n",
       "      <th>Location</th>\n",
       "      <th>Age</th>\n",
       "      <th>ISBN</th>\n",
       "      <th>Book-Rating</th>\n",
       "    </tr>\n",
       "  </thead>\n",
       "  <tbody>\n",
       "    <tr>\n",
       "      <th>0</th>\n",
       "      <td>1</td>\n",
       "      <td>nyc, new york, usa</td>\n",
       "      <td>NaN</td>\n",
       "      <td>NaN</td>\n",
       "      <td>NaN</td>\n",
       "    </tr>\n",
       "    <tr>\n",
       "      <th>1</th>\n",
       "      <td>2</td>\n",
       "      <td>stockton, california, usa</td>\n",
       "      <td>18.0</td>\n",
       "      <td>0195153448</td>\n",
       "      <td>0.0</td>\n",
       "    </tr>\n",
       "    <tr>\n",
       "      <th>2</th>\n",
       "      <td>3</td>\n",
       "      <td>moscow, yukon territory, russia</td>\n",
       "      <td>NaN</td>\n",
       "      <td>NaN</td>\n",
       "      <td>NaN</td>\n",
       "    </tr>\n",
       "    <tr>\n",
       "      <th>3</th>\n",
       "      <td>4</td>\n",
       "      <td>porto, v.n.gaia, portugal</td>\n",
       "      <td>17.0</td>\n",
       "      <td>NaN</td>\n",
       "      <td>NaN</td>\n",
       "    </tr>\n",
       "    <tr>\n",
       "      <th>4</th>\n",
       "      <td>5</td>\n",
       "      <td>farnborough, hants, united kingdom</td>\n",
       "      <td>NaN</td>\n",
       "      <td>NaN</td>\n",
       "      <td>NaN</td>\n",
       "    </tr>\n",
       "  </tbody>\n",
       "</table>\n",
       "</div>"
      ],
      "text/plain": [
       "   User                            Location   Age        ISBN  Book-Rating\n",
       "0     1                  nyc, new york, usa   NaN         NaN          NaN\n",
       "1     2           stockton, california, usa  18.0  0195153448          0.0\n",
       "2     3     moscow, yukon territory, russia   NaN         NaN          NaN\n",
       "3     4           porto, v.n.gaia, portugal  17.0         NaN          NaN\n",
       "4     5  farnborough, hants, united kingdom   NaN         NaN          NaN"
      ]
     },
     "execution_count": 19,
     "metadata": {},
     "output_type": "execute_result"
    }
   ],
   "source": [
    "Users_and_Ratings.head().sort_values(by='User')"
   ]
  },
  {
   "cell_type": "code",
   "execution_count": 20,
   "id": "6222a055",
   "metadata": {},
   "outputs": [],
   "source": [
    "masterdf = Users_and_Ratings.merge(Books_slim, how = 'left', on = 'ISBN')"
   ]
  },
  {
   "cell_type": "code",
   "execution_count": 21,
   "id": "d7e7e7ce",
   "metadata": {},
   "outputs": [
    {
     "data": {
      "text/html": [
       "<div>\n",
       "<style scoped>\n",
       "    .dataframe tbody tr th:only-of-type {\n",
       "        vertical-align: middle;\n",
       "    }\n",
       "\n",
       "    .dataframe tbody tr th {\n",
       "        vertical-align: top;\n",
       "    }\n",
       "\n",
       "    .dataframe thead th {\n",
       "        text-align: right;\n",
       "    }\n",
       "</style>\n",
       "<table border=\"1\" class=\"dataframe\">\n",
       "  <thead>\n",
       "    <tr style=\"text-align: right;\">\n",
       "      <th></th>\n",
       "      <th>User</th>\n",
       "      <th>Location</th>\n",
       "      <th>Age</th>\n",
       "      <th>ISBN</th>\n",
       "      <th>Book-Rating</th>\n",
       "      <th>Title</th>\n",
       "      <th>Author</th>\n",
       "      <th>Year-Of-Publication</th>\n",
       "      <th>Publisher</th>\n",
       "    </tr>\n",
       "  </thead>\n",
       "  <tbody>\n",
       "    <tr>\n",
       "      <th>0</th>\n",
       "      <td>1</td>\n",
       "      <td>nyc, new york, usa</td>\n",
       "      <td>NaN</td>\n",
       "      <td>NaN</td>\n",
       "      <td>NaN</td>\n",
       "      <td>NaN</td>\n",
       "      <td>NaN</td>\n",
       "      <td>NaN</td>\n",
       "      <td>NaN</td>\n",
       "    </tr>\n",
       "    <tr>\n",
       "      <th>1</th>\n",
       "      <td>2</td>\n",
       "      <td>stockton, california, usa</td>\n",
       "      <td>18.0</td>\n",
       "      <td>0195153448</td>\n",
       "      <td>0.0</td>\n",
       "      <td>Classical Mythology</td>\n",
       "      <td>Mark P. O. Morford</td>\n",
       "      <td>2002</td>\n",
       "      <td>Oxford University Press</td>\n",
       "    </tr>\n",
       "    <tr>\n",
       "      <th>2</th>\n",
       "      <td>3</td>\n",
       "      <td>moscow, yukon territory, russia</td>\n",
       "      <td>NaN</td>\n",
       "      <td>NaN</td>\n",
       "      <td>NaN</td>\n",
       "      <td>NaN</td>\n",
       "      <td>NaN</td>\n",
       "      <td>NaN</td>\n",
       "      <td>NaN</td>\n",
       "    </tr>\n",
       "    <tr>\n",
       "      <th>3</th>\n",
       "      <td>4</td>\n",
       "      <td>porto, v.n.gaia, portugal</td>\n",
       "      <td>17.0</td>\n",
       "      <td>NaN</td>\n",
       "      <td>NaN</td>\n",
       "      <td>NaN</td>\n",
       "      <td>NaN</td>\n",
       "      <td>NaN</td>\n",
       "      <td>NaN</td>\n",
       "    </tr>\n",
       "    <tr>\n",
       "      <th>4</th>\n",
       "      <td>5</td>\n",
       "      <td>farnborough, hants, united kingdom</td>\n",
       "      <td>NaN</td>\n",
       "      <td>NaN</td>\n",
       "      <td>NaN</td>\n",
       "      <td>NaN</td>\n",
       "      <td>NaN</td>\n",
       "      <td>NaN</td>\n",
       "      <td>NaN</td>\n",
       "    </tr>\n",
       "  </tbody>\n",
       "</table>\n",
       "</div>"
      ],
      "text/plain": [
       "   User                            Location   Age        ISBN  Book-Rating  \\\n",
       "0     1                  nyc, new york, usa   NaN         NaN          NaN   \n",
       "1     2           stockton, california, usa  18.0  0195153448          0.0   \n",
       "2     3     moscow, yukon territory, russia   NaN         NaN          NaN   \n",
       "3     4           porto, v.n.gaia, portugal  17.0         NaN          NaN   \n",
       "4     5  farnborough, hants, united kingdom   NaN         NaN          NaN   \n",
       "\n",
       "                 Title              Author Year-Of-Publication  \\\n",
       "0                  NaN                 NaN                 NaN   \n",
       "1  Classical Mythology  Mark P. O. Morford                2002   \n",
       "2                  NaN                 NaN                 NaN   \n",
       "3                  NaN                 NaN                 NaN   \n",
       "4                  NaN                 NaN                 NaN   \n",
       "\n",
       "                 Publisher  \n",
       "0                      NaN  \n",
       "1  Oxford University Press  \n",
       "2                      NaN  \n",
       "3                      NaN  \n",
       "4                      NaN  "
      ]
     },
     "execution_count": 21,
     "metadata": {},
     "output_type": "execute_result"
    }
   ],
   "source": [
    "masterdf.head().sort_values(by='User')"
   ]
  },
  {
   "cell_type": "code",
   "execution_count": 22,
   "id": "1f23df23",
   "metadata": {},
   "outputs": [
    {
     "name": "stdout",
     "output_type": "stream",
     "text": [
      "<class 'pandas.core.frame.DataFrame'>\n",
      "Int64Index: 1323355 entries, 0 to 1323354\n",
      "Data columns (total 9 columns):\n",
      " #   Column               Non-Null Count    Dtype  \n",
      "---  ------               --------------    -----  \n",
      " 0   User                 1323355 non-null  int64  \n",
      " 1   Location             1323355 non-null  object \n",
      " 2   Age                  946277 non-null   float64\n",
      " 3   ISBN                 1149780 non-null  object \n",
      " 4   Book-Rating          1149780 non-null  float64\n",
      " 5   Title                1031136 non-null  object \n",
      " 6   Author               1031135 non-null  object \n",
      " 7   Year-Of-Publication  1031136 non-null  object \n",
      " 8   Publisher            1031134 non-null  object \n",
      "dtypes: float64(2), int64(1), object(6)\n",
      "memory usage: 101.0+ MB\n"
     ]
    }
   ],
   "source": [
    "masterdf.info()"
   ]
  },
  {
   "cell_type": "code",
   "execution_count": 23,
   "id": "1943ee02",
   "metadata": {},
   "outputs": [
    {
     "data": {
      "text/html": [
       "<div>\n",
       "<style scoped>\n",
       "    .dataframe tbody tr th:only-of-type {\n",
       "        vertical-align: middle;\n",
       "    }\n",
       "\n",
       "    .dataframe tbody tr th {\n",
       "        vertical-align: top;\n",
       "    }\n",
       "\n",
       "    .dataframe thead th {\n",
       "        text-align: right;\n",
       "    }\n",
       "</style>\n",
       "<table border=\"1\" class=\"dataframe\">\n",
       "  <thead>\n",
       "    <tr style=\"text-align: right;\">\n",
       "      <th></th>\n",
       "      <th>User</th>\n",
       "      <th>Location</th>\n",
       "      <th>Age</th>\n",
       "      <th>ISBN</th>\n",
       "      <th>Book-Rating</th>\n",
       "      <th>Title</th>\n",
       "      <th>Author</th>\n",
       "      <th>Year-Of-Publication</th>\n",
       "      <th>Publisher</th>\n",
       "    </tr>\n",
       "  </thead>\n",
       "  <tbody>\n",
       "    <tr>\n",
       "      <th>1323350</th>\n",
       "      <td>278854</td>\n",
       "      <td>portland, oregon, usa</td>\n",
       "      <td>NaN</td>\n",
       "      <td>0553579606</td>\n",
       "      <td>8.0</td>\n",
       "      <td>Ashes to Ashes</td>\n",
       "      <td>TAMI HOAG</td>\n",
       "      <td>2000</td>\n",
       "      <td>Bantam</td>\n",
       "    </tr>\n",
       "    <tr>\n",
       "      <th>1323351</th>\n",
       "      <td>278855</td>\n",
       "      <td>tacoma, washington, united kingdom</td>\n",
       "      <td>50.0</td>\n",
       "      <td>NaN</td>\n",
       "      <td>NaN</td>\n",
       "      <td>NaN</td>\n",
       "      <td>NaN</td>\n",
       "      <td>NaN</td>\n",
       "      <td>NaN</td>\n",
       "    </tr>\n",
       "    <tr>\n",
       "      <th>1323352</th>\n",
       "      <td>278856</td>\n",
       "      <td>brampton, ontario, canada</td>\n",
       "      <td>NaN</td>\n",
       "      <td>NaN</td>\n",
       "      <td>NaN</td>\n",
       "      <td>NaN</td>\n",
       "      <td>NaN</td>\n",
       "      <td>NaN</td>\n",
       "      <td>NaN</td>\n",
       "    </tr>\n",
       "    <tr>\n",
       "      <th>1323353</th>\n",
       "      <td>278857</td>\n",
       "      <td>knoxville, tennessee, usa</td>\n",
       "      <td>NaN</td>\n",
       "      <td>NaN</td>\n",
       "      <td>NaN</td>\n",
       "      <td>NaN</td>\n",
       "      <td>NaN</td>\n",
       "      <td>NaN</td>\n",
       "      <td>NaN</td>\n",
       "    </tr>\n",
       "    <tr>\n",
       "      <th>1323354</th>\n",
       "      <td>278858</td>\n",
       "      <td>dublin, n/a, ireland</td>\n",
       "      <td>NaN</td>\n",
       "      <td>NaN</td>\n",
       "      <td>NaN</td>\n",
       "      <td>NaN</td>\n",
       "      <td>NaN</td>\n",
       "      <td>NaN</td>\n",
       "      <td>NaN</td>\n",
       "    </tr>\n",
       "  </tbody>\n",
       "</table>\n",
       "</div>"
      ],
      "text/plain": [
       "           User                            Location   Age        ISBN  \\\n",
       "1323350  278854               portland, oregon, usa   NaN  0553579606   \n",
       "1323351  278855  tacoma, washington, united kingdom  50.0         NaN   \n",
       "1323352  278856           brampton, ontario, canada   NaN         NaN   \n",
       "1323353  278857           knoxville, tennessee, usa   NaN         NaN   \n",
       "1323354  278858                dublin, n/a, ireland   NaN         NaN   \n",
       "\n",
       "         Book-Rating           Title     Author Year-Of-Publication Publisher  \n",
       "1323350          8.0  Ashes to Ashes  TAMI HOAG                2000    Bantam  \n",
       "1323351          NaN             NaN        NaN                 NaN       NaN  \n",
       "1323352          NaN             NaN        NaN                 NaN       NaN  \n",
       "1323353          NaN             NaN        NaN                 NaN       NaN  \n",
       "1323354          NaN             NaN        NaN                 NaN       NaN  "
      ]
     },
     "execution_count": 23,
     "metadata": {},
     "output_type": "execute_result"
    }
   ],
   "source": [
    "masterdf.tail()"
   ]
  },
  {
   "cell_type": "code",
   "execution_count": 24,
   "id": "ed166d6c",
   "metadata": {},
   "outputs": [],
   "source": [
    "masterdf.drop(masterdf[masterdf['Book-Rating'] == 0.0].index, inplace = True)"
   ]
  },
  {
   "cell_type": "code",
   "execution_count": 25,
   "id": "9208c921",
   "metadata": {},
   "outputs": [
    {
     "data": {
      "text/plain": [
       "8.0     103736\n",
       "10.0     78610\n",
       "7.0      76457\n",
       "9.0      67541\n",
       "5.0      50974\n",
       "6.0      36924\n",
       "4.0       8904\n",
       "3.0       5996\n",
       "2.0       2759\n",
       "1.0       1770\n",
       "Name: Book-Rating, dtype: int64"
      ]
     },
     "execution_count": 25,
     "metadata": {},
     "output_type": "execute_result"
    }
   ],
   "source": [
    "masterdf['Book-Rating'].value_counts()"
   ]
  },
  {
   "cell_type": "code",
   "execution_count": 26,
   "id": "c66afcfd",
   "metadata": {},
   "outputs": [],
   "source": [
    "nonanmaster = masterdf.dropna()"
   ]
  },
  {
   "cell_type": "code",
   "execution_count": 27,
   "id": "de48642f",
   "metadata": {},
   "outputs": [
    {
     "name": "stderr",
     "output_type": "stream",
     "text": [
      "<ipython-input-27-5f96f80d4a16>:1: SettingWithCopyWarning: \n",
      "A value is trying to be set on a copy of a slice from a DataFrame.\n",
      "Try using .loc[row_indexer,col_indexer] = value instead\n",
      "\n",
      "See the caveats in the documentation: https://pandas.pydata.org/pandas-docs/stable/user_guide/indexing.html#returning-a-view-versus-a-copy\n",
      "  nonanmaster['Book Number'] = nonanmaster['ISBN'].index\n"
     ]
    }
   ],
   "source": [
    "nonanmaster['Book Number'] = nonanmaster['ISBN'].index"
   ]
  },
  {
   "cell_type": "code",
   "execution_count": 28,
   "id": "4901b38e",
   "metadata": {},
   "outputs": [
    {
     "name": "stdout",
     "output_type": "stream",
     "text": [
      "<class 'pandas.core.frame.DataFrame'>\n",
      "Int64Index: 269618 entries, 48 to 1323341\n",
      "Data columns (total 10 columns):\n",
      " #   Column               Non-Null Count   Dtype  \n",
      "---  ------               --------------   -----  \n",
      " 0   User                 269618 non-null  int64  \n",
      " 1   Location             269618 non-null  object \n",
      " 2   Age                  269618 non-null  float64\n",
      " 3   ISBN                 269618 non-null  object \n",
      " 4   Book-Rating          269618 non-null  float64\n",
      " 5   Title                269618 non-null  object \n",
      " 6   Author               269618 non-null  object \n",
      " 7   Year-Of-Publication  269618 non-null  object \n",
      " 8   Publisher            269618 non-null  object \n",
      " 9   Book Number          269618 non-null  int64  \n",
      "dtypes: float64(2), int64(2), object(6)\n",
      "memory usage: 22.6+ MB\n"
     ]
    }
   ],
   "source": [
    "nonanmaster.info()"
   ]
  },
  {
   "cell_type": "code",
   "execution_count": 29,
   "id": "87821571",
   "metadata": {},
   "outputs": [
    {
     "data": {
      "text/html": [
       "<div>\n",
       "<style scoped>\n",
       "    .dataframe tbody tr th:only-of-type {\n",
       "        vertical-align: middle;\n",
       "    }\n",
       "\n",
       "    .dataframe tbody tr th {\n",
       "        vertical-align: top;\n",
       "    }\n",
       "\n",
       "    .dataframe thead th {\n",
       "        text-align: right;\n",
       "    }\n",
       "</style>\n",
       "<table border=\"1\" class=\"dataframe\">\n",
       "  <thead>\n",
       "    <tr style=\"text-align: right;\">\n",
       "      <th></th>\n",
       "      <th>User</th>\n",
       "      <th>Location</th>\n",
       "      <th>Age</th>\n",
       "      <th>ISBN</th>\n",
       "      <th>Book-Rating</th>\n",
       "      <th>Title</th>\n",
       "      <th>Author</th>\n",
       "      <th>Year-Of-Publication</th>\n",
       "      <th>Publisher</th>\n",
       "      <th>Book Number</th>\n",
       "    </tr>\n",
       "  </thead>\n",
       "  <tbody>\n",
       "    <tr>\n",
       "      <th>48</th>\n",
       "      <td>19</td>\n",
       "      <td>weston, ,</td>\n",
       "      <td>14.0</td>\n",
       "      <td>0375759778</td>\n",
       "      <td>7.0</td>\n",
       "      <td>Prague : A Novel</td>\n",
       "      <td>ARTHUR PHILLIPS</td>\n",
       "      <td>2003</td>\n",
       "      <td>Random House Trade Paperbacks</td>\n",
       "      <td>48</td>\n",
       "    </tr>\n",
       "    <tr>\n",
       "      <th>80</th>\n",
       "      <td>42</td>\n",
       "      <td>appleton, wisconsin, usa</td>\n",
       "      <td>17.0</td>\n",
       "      <td>0553582747</td>\n",
       "      <td>7.0</td>\n",
       "      <td>From the Corner of His Eye</td>\n",
       "      <td>Dean Koontz</td>\n",
       "      <td>2001</td>\n",
       "      <td>Bantam Books</td>\n",
       "      <td>80</td>\n",
       "    </tr>\n",
       "    <tr>\n",
       "      <th>84</th>\n",
       "      <td>44</td>\n",
       "      <td>black mountain, north carolina, usa</td>\n",
       "      <td>51.0</td>\n",
       "      <td>0440223571</td>\n",
       "      <td>8.0</td>\n",
       "      <td>This Year It Will Be Different: And Other Stories</td>\n",
       "      <td>Maeve Binchy</td>\n",
       "      <td>1997</td>\n",
       "      <td>Dell</td>\n",
       "      <td>84</td>\n",
       "    </tr>\n",
       "    <tr>\n",
       "      <th>93</th>\n",
       "      <td>51</td>\n",
       "      <td>renton, washington, usa</td>\n",
       "      <td>34.0</td>\n",
       "      <td>0440225701</td>\n",
       "      <td>9.0</td>\n",
       "      <td>The Street Lawyer</td>\n",
       "      <td>JOHN GRISHAM</td>\n",
       "      <td>1999</td>\n",
       "      <td>Dell</td>\n",
       "      <td>93</td>\n",
       "    </tr>\n",
       "    <tr>\n",
       "      <th>104</th>\n",
       "      <td>56</td>\n",
       "      <td>cheyenne, wyoming, usa</td>\n",
       "      <td>24.0</td>\n",
       "      <td>0671623249</td>\n",
       "      <td>7.0</td>\n",
       "      <td>LONESOME DOVE</td>\n",
       "      <td>Larry McMurtry</td>\n",
       "      <td>1986</td>\n",
       "      <td>Pocket</td>\n",
       "      <td>104</td>\n",
       "    </tr>\n",
       "  </tbody>\n",
       "</table>\n",
       "</div>"
      ],
      "text/plain": [
       "     User                             Location   Age        ISBN  Book-Rating  \\\n",
       "48     19                            weston, ,  14.0  0375759778          7.0   \n",
       "80     42             appleton, wisconsin, usa  17.0  0553582747          7.0   \n",
       "84     44  black mountain, north carolina, usa  51.0  0440223571          8.0   \n",
       "93     51              renton, washington, usa  34.0  0440225701          9.0   \n",
       "104    56               cheyenne, wyoming, usa  24.0  0671623249          7.0   \n",
       "\n",
       "                                                 Title           Author  \\\n",
       "48                                    Prague : A Novel  ARTHUR PHILLIPS   \n",
       "80                          From the Corner of His Eye      Dean Koontz   \n",
       "84   This Year It Will Be Different: And Other Stories     Maeve Binchy   \n",
       "93                                   The Street Lawyer     JOHN GRISHAM   \n",
       "104                                      LONESOME DOVE   Larry McMurtry   \n",
       "\n",
       "    Year-Of-Publication                      Publisher  Book Number  \n",
       "48                 2003  Random House Trade Paperbacks           48  \n",
       "80                 2001                   Bantam Books           80  \n",
       "84                 1997                           Dell           84  \n",
       "93                 1999                           Dell           93  \n",
       "104                1986                         Pocket          104  "
      ]
     },
     "execution_count": 29,
     "metadata": {},
     "output_type": "execute_result"
    }
   ],
   "source": [
    "nonanmaster.head()"
   ]
  },
  {
   "cell_type": "code",
   "execution_count": 30,
   "id": "ef93a021",
   "metadata": {},
   "outputs": [
    {
     "data": {
      "text/html": [
       "<div>\n",
       "<style scoped>\n",
       "    .dataframe tbody tr th:only-of-type {\n",
       "        vertical-align: middle;\n",
       "    }\n",
       "\n",
       "    .dataframe tbody tr th {\n",
       "        vertical-align: top;\n",
       "    }\n",
       "\n",
       "    .dataframe thead th {\n",
       "        text-align: right;\n",
       "    }\n",
       "</style>\n",
       "<table border=\"1\" class=\"dataframe\">\n",
       "  <thead>\n",
       "    <tr style=\"text-align: right;\">\n",
       "      <th></th>\n",
       "      <th>User</th>\n",
       "      <th>Location</th>\n",
       "      <th>Age</th>\n",
       "      <th>ISBN</th>\n",
       "      <th>Book-Rating</th>\n",
       "      <th>Title</th>\n",
       "      <th>Author</th>\n",
       "      <th>Year-Of-Publication</th>\n",
       "      <th>Publisher</th>\n",
       "      <th>Book Number</th>\n",
       "    </tr>\n",
       "  </thead>\n",
       "  <tbody>\n",
       "    <tr>\n",
       "      <th>1323336</th>\n",
       "      <td>278851</td>\n",
       "      <td>dallas, texas, usa</td>\n",
       "      <td>33.0</td>\n",
       "      <td>0914511211</td>\n",
       "      <td>8.0</td>\n",
       "      <td>1996-97 Texas Almanac and State Industrial Gui...</td>\n",
       "      <td>Dallas Morning News</td>\n",
       "      <td>1995</td>\n",
       "      <td>Andrews McMeel Pub</td>\n",
       "      <td>1323336</td>\n",
       "    </tr>\n",
       "    <tr>\n",
       "      <th>1323337</th>\n",
       "      <td>278851</td>\n",
       "      <td>dallas, texas, usa</td>\n",
       "      <td>33.0</td>\n",
       "      <td>1558531025</td>\n",
       "      <td>8.0</td>\n",
       "      <td>Life's Little Instruction Book (Life's Little ...</td>\n",
       "      <td>H. Jackson Brown</td>\n",
       "      <td>1991</td>\n",
       "      <td>Thomas Nelson</td>\n",
       "      <td>1323337</td>\n",
       "    </tr>\n",
       "    <tr>\n",
       "      <th>1323339</th>\n",
       "      <td>278851</td>\n",
       "      <td>dallas, texas, usa</td>\n",
       "      <td>33.0</td>\n",
       "      <td>1569661057</td>\n",
       "      <td>10.0</td>\n",
       "      <td>Dallas Street Map Guide and Directory, 2000 Ed...</td>\n",
       "      <td>Mapsco</td>\n",
       "      <td>1999</td>\n",
       "      <td>American Map Corporation</td>\n",
       "      <td>1323339</td>\n",
       "    </tr>\n",
       "    <tr>\n",
       "      <th>1323340</th>\n",
       "      <td>278851</td>\n",
       "      <td>dallas, texas, usa</td>\n",
       "      <td>33.0</td>\n",
       "      <td>1885071213</td>\n",
       "      <td>7.0</td>\n",
       "      <td>Highpoint Adventures, A Pocket Guide to the 50...</td>\n",
       "      <td>Charlie Winger</td>\n",
       "      <td>1999</td>\n",
       "      <td>Sequoia Publishing</td>\n",
       "      <td>1323340</td>\n",
       "    </tr>\n",
       "    <tr>\n",
       "      <th>1323341</th>\n",
       "      <td>278852</td>\n",
       "      <td>brisbane, queensland, australia</td>\n",
       "      <td>32.0</td>\n",
       "      <td>0449907597</td>\n",
       "      <td>8.0</td>\n",
       "      <td>Dave Barry's Only Travel Guide You'll Ever Need</td>\n",
       "      <td>Dave Barry</td>\n",
       "      <td>1992</td>\n",
       "      <td>Ballantine Books</td>\n",
       "      <td>1323341</td>\n",
       "    </tr>\n",
       "  </tbody>\n",
       "</table>\n",
       "</div>"
      ],
      "text/plain": [
       "           User                         Location   Age        ISBN  \\\n",
       "1323336  278851               dallas, texas, usa  33.0  0914511211   \n",
       "1323337  278851               dallas, texas, usa  33.0  1558531025   \n",
       "1323339  278851               dallas, texas, usa  33.0  1569661057   \n",
       "1323340  278851               dallas, texas, usa  33.0  1885071213   \n",
       "1323341  278852  brisbane, queensland, australia  32.0  0449907597   \n",
       "\n",
       "         Book-Rating                                              Title  \\\n",
       "1323336          8.0  1996-97 Texas Almanac and State Industrial Gui...   \n",
       "1323337          8.0  Life's Little Instruction Book (Life's Little ...   \n",
       "1323339         10.0  Dallas Street Map Guide and Directory, 2000 Ed...   \n",
       "1323340          7.0  Highpoint Adventures, A Pocket Guide to the 50...   \n",
       "1323341          8.0    Dave Barry's Only Travel Guide You'll Ever Need   \n",
       "\n",
       "                      Author Year-Of-Publication                 Publisher  \\\n",
       "1323336  Dallas Morning News                1995        Andrews McMeel Pub   \n",
       "1323337     H. Jackson Brown                1991             Thomas Nelson   \n",
       "1323339               Mapsco                1999  American Map Corporation   \n",
       "1323340       Charlie Winger                1999        Sequoia Publishing   \n",
       "1323341           Dave Barry                1992          Ballantine Books   \n",
       "\n",
       "         Book Number  \n",
       "1323336      1323336  \n",
       "1323337      1323337  \n",
       "1323339      1323339  \n",
       "1323340      1323340  \n",
       "1323341      1323341  "
      ]
     },
     "execution_count": 30,
     "metadata": {},
     "output_type": "execute_result"
    }
   ],
   "source": [
    "nonanmaster.tail()"
   ]
  },
  {
   "cell_type": "code",
   "execution_count": 31,
   "id": "795b9f64",
   "metadata": {},
   "outputs": [
    {
     "data": {
      "text/html": [
       "<div>\n",
       "<style scoped>\n",
       "    .dataframe tbody tr th:only-of-type {\n",
       "        vertical-align: middle;\n",
       "    }\n",
       "\n",
       "    .dataframe tbody tr th {\n",
       "        vertical-align: top;\n",
       "    }\n",
       "\n",
       "    .dataframe thead th {\n",
       "        text-align: right;\n",
       "    }\n",
       "</style>\n",
       "<table border=\"1\" class=\"dataframe\">\n",
       "  <thead>\n",
       "    <tr style=\"text-align: right;\">\n",
       "      <th></th>\n",
       "      <th>User</th>\n",
       "      <th>Location</th>\n",
       "      <th>Age</th>\n",
       "      <th>ISBN</th>\n",
       "      <th>Book-Rating</th>\n",
       "      <th>Title</th>\n",
       "      <th>Author</th>\n",
       "      <th>Year-Of-Publication</th>\n",
       "      <th>Publisher</th>\n",
       "      <th>Book Number</th>\n",
       "    </tr>\n",
       "  </thead>\n",
       "  <tbody>\n",
       "    <tr>\n",
       "      <th>0</th>\n",
       "      <td>19</td>\n",
       "      <td>weston, ,</td>\n",
       "      <td>14.0</td>\n",
       "      <td>0375759778</td>\n",
       "      <td>7.0</td>\n",
       "      <td>Prague : A Novel</td>\n",
       "      <td>ARTHUR PHILLIPS</td>\n",
       "      <td>2003</td>\n",
       "      <td>Random House Trade Paperbacks</td>\n",
       "      <td>48</td>\n",
       "    </tr>\n",
       "    <tr>\n",
       "      <th>1</th>\n",
       "      <td>42</td>\n",
       "      <td>appleton, wisconsin, usa</td>\n",
       "      <td>17.0</td>\n",
       "      <td>0553582747</td>\n",
       "      <td>7.0</td>\n",
       "      <td>From the Corner of His Eye</td>\n",
       "      <td>Dean Koontz</td>\n",
       "      <td>2001</td>\n",
       "      <td>Bantam Books</td>\n",
       "      <td>80</td>\n",
       "    </tr>\n",
       "    <tr>\n",
       "      <th>2</th>\n",
       "      <td>44</td>\n",
       "      <td>black mountain, north carolina, usa</td>\n",
       "      <td>51.0</td>\n",
       "      <td>0440223571</td>\n",
       "      <td>8.0</td>\n",
       "      <td>This Year It Will Be Different: And Other Stories</td>\n",
       "      <td>Maeve Binchy</td>\n",
       "      <td>1997</td>\n",
       "      <td>Dell</td>\n",
       "      <td>84</td>\n",
       "    </tr>\n",
       "    <tr>\n",
       "      <th>3</th>\n",
       "      <td>51</td>\n",
       "      <td>renton, washington, usa</td>\n",
       "      <td>34.0</td>\n",
       "      <td>0440225701</td>\n",
       "      <td>9.0</td>\n",
       "      <td>The Street Lawyer</td>\n",
       "      <td>JOHN GRISHAM</td>\n",
       "      <td>1999</td>\n",
       "      <td>Dell</td>\n",
       "      <td>93</td>\n",
       "    </tr>\n",
       "    <tr>\n",
       "      <th>4</th>\n",
       "      <td>56</td>\n",
       "      <td>cheyenne, wyoming, usa</td>\n",
       "      <td>24.0</td>\n",
       "      <td>0671623249</td>\n",
       "      <td>7.0</td>\n",
       "      <td>LONESOME DOVE</td>\n",
       "      <td>Larry McMurtry</td>\n",
       "      <td>1986</td>\n",
       "      <td>Pocket</td>\n",
       "      <td>104</td>\n",
       "    </tr>\n",
       "    <tr>\n",
       "      <th>...</th>\n",
       "      <td>...</td>\n",
       "      <td>...</td>\n",
       "      <td>...</td>\n",
       "      <td>...</td>\n",
       "      <td>...</td>\n",
       "      <td>...</td>\n",
       "      <td>...</td>\n",
       "      <td>...</td>\n",
       "      <td>...</td>\n",
       "      <td>...</td>\n",
       "    </tr>\n",
       "    <tr>\n",
       "      <th>269613</th>\n",
       "      <td>278851</td>\n",
       "      <td>dallas, texas, usa</td>\n",
       "      <td>33.0</td>\n",
       "      <td>0914511211</td>\n",
       "      <td>8.0</td>\n",
       "      <td>1996-97 Texas Almanac and State Industrial Gui...</td>\n",
       "      <td>Dallas Morning News</td>\n",
       "      <td>1995</td>\n",
       "      <td>Andrews McMeel Pub</td>\n",
       "      <td>1323336</td>\n",
       "    </tr>\n",
       "    <tr>\n",
       "      <th>269614</th>\n",
       "      <td>278851</td>\n",
       "      <td>dallas, texas, usa</td>\n",
       "      <td>33.0</td>\n",
       "      <td>1558531025</td>\n",
       "      <td>8.0</td>\n",
       "      <td>Life's Little Instruction Book (Life's Little ...</td>\n",
       "      <td>H. Jackson Brown</td>\n",
       "      <td>1991</td>\n",
       "      <td>Thomas Nelson</td>\n",
       "      <td>1323337</td>\n",
       "    </tr>\n",
       "    <tr>\n",
       "      <th>269615</th>\n",
       "      <td>278851</td>\n",
       "      <td>dallas, texas, usa</td>\n",
       "      <td>33.0</td>\n",
       "      <td>1569661057</td>\n",
       "      <td>10.0</td>\n",
       "      <td>Dallas Street Map Guide and Directory, 2000 Ed...</td>\n",
       "      <td>Mapsco</td>\n",
       "      <td>1999</td>\n",
       "      <td>American Map Corporation</td>\n",
       "      <td>1323339</td>\n",
       "    </tr>\n",
       "    <tr>\n",
       "      <th>269616</th>\n",
       "      <td>278851</td>\n",
       "      <td>dallas, texas, usa</td>\n",
       "      <td>33.0</td>\n",
       "      <td>1885071213</td>\n",
       "      <td>7.0</td>\n",
       "      <td>Highpoint Adventures, A Pocket Guide to the 50...</td>\n",
       "      <td>Charlie Winger</td>\n",
       "      <td>1999</td>\n",
       "      <td>Sequoia Publishing</td>\n",
       "      <td>1323340</td>\n",
       "    </tr>\n",
       "    <tr>\n",
       "      <th>269617</th>\n",
       "      <td>278852</td>\n",
       "      <td>brisbane, queensland, australia</td>\n",
       "      <td>32.0</td>\n",
       "      <td>0449907597</td>\n",
       "      <td>8.0</td>\n",
       "      <td>Dave Barry's Only Travel Guide You'll Ever Need</td>\n",
       "      <td>Dave Barry</td>\n",
       "      <td>1992</td>\n",
       "      <td>Ballantine Books</td>\n",
       "      <td>1323341</td>\n",
       "    </tr>\n",
       "  </tbody>\n",
       "</table>\n",
       "<p>269618 rows × 10 columns</p>\n",
       "</div>"
      ],
      "text/plain": [
       "          User                             Location   Age        ISBN  \\\n",
       "0           19                            weston, ,  14.0  0375759778   \n",
       "1           42             appleton, wisconsin, usa  17.0  0553582747   \n",
       "2           44  black mountain, north carolina, usa  51.0  0440223571   \n",
       "3           51              renton, washington, usa  34.0  0440225701   \n",
       "4           56               cheyenne, wyoming, usa  24.0  0671623249   \n",
       "...        ...                                  ...   ...         ...   \n",
       "269613  278851                   dallas, texas, usa  33.0  0914511211   \n",
       "269614  278851                   dallas, texas, usa  33.0  1558531025   \n",
       "269615  278851                   dallas, texas, usa  33.0  1569661057   \n",
       "269616  278851                   dallas, texas, usa  33.0  1885071213   \n",
       "269617  278852      brisbane, queensland, australia  32.0  0449907597   \n",
       "\n",
       "        Book-Rating                                              Title  \\\n",
       "0               7.0                                   Prague : A Novel   \n",
       "1               7.0                         From the Corner of His Eye   \n",
       "2               8.0  This Year It Will Be Different: And Other Stories   \n",
       "3               9.0                                  The Street Lawyer   \n",
       "4               7.0                                      LONESOME DOVE   \n",
       "...             ...                                                ...   \n",
       "269613          8.0  1996-97 Texas Almanac and State Industrial Gui...   \n",
       "269614          8.0  Life's Little Instruction Book (Life's Little ...   \n",
       "269615         10.0  Dallas Street Map Guide and Directory, 2000 Ed...   \n",
       "269616          7.0  Highpoint Adventures, A Pocket Guide to the 50...   \n",
       "269617          8.0    Dave Barry's Only Travel Guide You'll Ever Need   \n",
       "\n",
       "                     Author Year-Of-Publication  \\\n",
       "0           ARTHUR PHILLIPS                2003   \n",
       "1               Dean Koontz                2001   \n",
       "2              Maeve Binchy                1997   \n",
       "3              JOHN GRISHAM                1999   \n",
       "4            Larry McMurtry                1986   \n",
       "...                     ...                 ...   \n",
       "269613  Dallas Morning News                1995   \n",
       "269614     H. Jackson Brown                1991   \n",
       "269615               Mapsco                1999   \n",
       "269616       Charlie Winger                1999   \n",
       "269617           Dave Barry                1992   \n",
       "\n",
       "                            Publisher  Book Number  \n",
       "0       Random House Trade Paperbacks           48  \n",
       "1                        Bantam Books           80  \n",
       "2                                Dell           84  \n",
       "3                                Dell           93  \n",
       "4                              Pocket          104  \n",
       "...                               ...          ...  \n",
       "269613             Andrews McMeel Pub      1323336  \n",
       "269614                  Thomas Nelson      1323337  \n",
       "269615       American Map Corporation      1323339  \n",
       "269616             Sequoia Publishing      1323340  \n",
       "269617               Ballantine Books      1323341  \n",
       "\n",
       "[269618 rows x 10 columns]"
      ]
     },
     "execution_count": 31,
     "metadata": {},
     "output_type": "execute_result"
    }
   ],
   "source": [
    "nonanmaster.reset_index(drop=True)"
   ]
  },
  {
   "cell_type": "code",
   "execution_count": 32,
   "id": "6632c40d",
   "metadata": {},
   "outputs": [
    {
     "name": "stdout",
     "output_type": "stream",
     "text": [
      "<class 'pandas.core.frame.DataFrame'>\n",
      "Int64Index: 269618 entries, 48 to 1323341\n",
      "Data columns (total 10 columns):\n",
      " #   Column               Non-Null Count   Dtype  \n",
      "---  ------               --------------   -----  \n",
      " 0   User                 269618 non-null  int64  \n",
      " 1   Location             269618 non-null  object \n",
      " 2   Age                  269618 non-null  float64\n",
      " 3   ISBN                 269618 non-null  object \n",
      " 4   Book-Rating          269618 non-null  float64\n",
      " 5   Title                269618 non-null  object \n",
      " 6   Author               269618 non-null  object \n",
      " 7   Year-Of-Publication  269618 non-null  object \n",
      " 8   Publisher            269618 non-null  object \n",
      " 9   Book Number          269618 non-null  int64  \n",
      "dtypes: float64(2), int64(2), object(6)\n",
      "memory usage: 22.6+ MB\n"
     ]
    }
   ],
   "source": [
    "nonanmaster.info()"
   ]
  },
  {
   "cell_type": "code",
   "execution_count": 33,
   "id": "adfd133b",
   "metadata": {},
   "outputs": [
    {
     "data": {
      "text/html": [
       "<div>\n",
       "<style scoped>\n",
       "    .dataframe tbody tr th:only-of-type {\n",
       "        vertical-align: middle;\n",
       "    }\n",
       "\n",
       "    .dataframe tbody tr th {\n",
       "        vertical-align: top;\n",
       "    }\n",
       "\n",
       "    .dataframe thead th {\n",
       "        text-align: right;\n",
       "    }\n",
       "</style>\n",
       "<table border=\"1\" class=\"dataframe\">\n",
       "  <thead>\n",
       "    <tr style=\"text-align: right;\">\n",
       "      <th></th>\n",
       "      <th>User</th>\n",
       "      <th>Location</th>\n",
       "      <th>Age</th>\n",
       "      <th>ISBN</th>\n",
       "      <th>Book-Rating</th>\n",
       "      <th>Title</th>\n",
       "      <th>Author</th>\n",
       "      <th>Year-Of-Publication</th>\n",
       "      <th>Publisher</th>\n",
       "      <th>Book Number</th>\n",
       "    </tr>\n",
       "  </thead>\n",
       "  <tbody>\n",
       "    <tr>\n",
       "      <th>1323336</th>\n",
       "      <td>278851</td>\n",
       "      <td>dallas, texas, usa</td>\n",
       "      <td>33.0</td>\n",
       "      <td>0914511211</td>\n",
       "      <td>8.0</td>\n",
       "      <td>1996-97 Texas Almanac and State Industrial Gui...</td>\n",
       "      <td>Dallas Morning News</td>\n",
       "      <td>1995</td>\n",
       "      <td>Andrews McMeel Pub</td>\n",
       "      <td>1323336</td>\n",
       "    </tr>\n",
       "    <tr>\n",
       "      <th>1323337</th>\n",
       "      <td>278851</td>\n",
       "      <td>dallas, texas, usa</td>\n",
       "      <td>33.0</td>\n",
       "      <td>1558531025</td>\n",
       "      <td>8.0</td>\n",
       "      <td>Life's Little Instruction Book (Life's Little ...</td>\n",
       "      <td>H. Jackson Brown</td>\n",
       "      <td>1991</td>\n",
       "      <td>Thomas Nelson</td>\n",
       "      <td>1323337</td>\n",
       "    </tr>\n",
       "    <tr>\n",
       "      <th>1323339</th>\n",
       "      <td>278851</td>\n",
       "      <td>dallas, texas, usa</td>\n",
       "      <td>33.0</td>\n",
       "      <td>1569661057</td>\n",
       "      <td>10.0</td>\n",
       "      <td>Dallas Street Map Guide and Directory, 2000 Ed...</td>\n",
       "      <td>Mapsco</td>\n",
       "      <td>1999</td>\n",
       "      <td>American Map Corporation</td>\n",
       "      <td>1323339</td>\n",
       "    </tr>\n",
       "    <tr>\n",
       "      <th>1323340</th>\n",
       "      <td>278851</td>\n",
       "      <td>dallas, texas, usa</td>\n",
       "      <td>33.0</td>\n",
       "      <td>1885071213</td>\n",
       "      <td>7.0</td>\n",
       "      <td>Highpoint Adventures, A Pocket Guide to the 50...</td>\n",
       "      <td>Charlie Winger</td>\n",
       "      <td>1999</td>\n",
       "      <td>Sequoia Publishing</td>\n",
       "      <td>1323340</td>\n",
       "    </tr>\n",
       "    <tr>\n",
       "      <th>1323341</th>\n",
       "      <td>278852</td>\n",
       "      <td>brisbane, queensland, australia</td>\n",
       "      <td>32.0</td>\n",
       "      <td>0449907597</td>\n",
       "      <td>8.0</td>\n",
       "      <td>Dave Barry's Only Travel Guide You'll Ever Need</td>\n",
       "      <td>Dave Barry</td>\n",
       "      <td>1992</td>\n",
       "      <td>Ballantine Books</td>\n",
       "      <td>1323341</td>\n",
       "    </tr>\n",
       "  </tbody>\n",
       "</table>\n",
       "</div>"
      ],
      "text/plain": [
       "           User                         Location   Age        ISBN  \\\n",
       "1323336  278851               dallas, texas, usa  33.0  0914511211   \n",
       "1323337  278851               dallas, texas, usa  33.0  1558531025   \n",
       "1323339  278851               dallas, texas, usa  33.0  1569661057   \n",
       "1323340  278851               dallas, texas, usa  33.0  1885071213   \n",
       "1323341  278852  brisbane, queensland, australia  32.0  0449907597   \n",
       "\n",
       "         Book-Rating                                              Title  \\\n",
       "1323336          8.0  1996-97 Texas Almanac and State Industrial Gui...   \n",
       "1323337          8.0  Life's Little Instruction Book (Life's Little ...   \n",
       "1323339         10.0  Dallas Street Map Guide and Directory, 2000 Ed...   \n",
       "1323340          7.0  Highpoint Adventures, A Pocket Guide to the 50...   \n",
       "1323341          8.0    Dave Barry's Only Travel Guide You'll Ever Need   \n",
       "\n",
       "                      Author Year-Of-Publication                 Publisher  \\\n",
       "1323336  Dallas Morning News                1995        Andrews McMeel Pub   \n",
       "1323337     H. Jackson Brown                1991             Thomas Nelson   \n",
       "1323339               Mapsco                1999  American Map Corporation   \n",
       "1323340       Charlie Winger                1999        Sequoia Publishing   \n",
       "1323341           Dave Barry                1992          Ballantine Books   \n",
       "\n",
       "         Book Number  \n",
       "1323336      1323336  \n",
       "1323337      1323337  \n",
       "1323339      1323339  \n",
       "1323340      1323340  \n",
       "1323341      1323341  "
      ]
     },
     "execution_count": 33,
     "metadata": {},
     "output_type": "execute_result"
    }
   ],
   "source": [
    "nonanmaster.tail()"
   ]
  },
  {
   "cell_type": "code",
   "execution_count": 34,
   "id": "a04505a2",
   "metadata": {},
   "outputs": [
    {
     "data": {
      "text/plain": [
       "User                    40543\n",
       "Location                13253\n",
       "Age                       132\n",
       "ISBN                   119945\n",
       "Book-Rating                10\n",
       "Title                  109210\n",
       "Author                  50883\n",
       "Year-Of-Publication       168\n",
       "Publisher                9749\n",
       "Book Number            269618\n",
       "dtype: int64"
      ]
     },
     "execution_count": 34,
     "metadata": {},
     "output_type": "execute_result"
    }
   ],
   "source": [
    "nonanmaster.nunique()"
   ]
  },
  {
   "cell_type": "code",
   "execution_count": 35,
   "id": "88ca51f6",
   "metadata": {},
   "outputs": [
    {
     "data": {
      "text/plain": [
       "8.0     64823\n",
       "10.0    53943\n",
       "7.0     45539\n",
       "9.0     45249\n",
       "5.0     27744\n",
       "6.0     21445\n",
       "4.0      5096\n",
       "3.0      3331\n",
       "2.0      1562\n",
       "1.0       886\n",
       "Name: Book-Rating, dtype: int64"
      ]
     },
     "execution_count": 35,
     "metadata": {},
     "output_type": "execute_result"
    }
   ],
   "source": [
    "nonanmaster['Book-Rating'].value_counts()"
   ]
  },
  {
   "cell_type": "code",
   "execution_count": 36,
   "id": "4a6e0405",
   "metadata": {},
   "outputs": [
    {
     "name": "stderr",
     "output_type": "stream",
     "text": [
      "<ipython-input-36-81a0948f4471>:1: SettingWithCopyWarning: \n",
      "A value is trying to be set on a copy of a slice from a DataFrame.\n",
      "Try using .loc[row_indexer,col_indexer] = value instead\n",
      "\n",
      "See the caveats in the documentation: https://pandas.pydata.org/pandas-docs/stable/user_guide/indexing.html#returning-a-view-versus-a-copy\n",
      "  nonanmaster['Age'] = nonanmaster['Age'].astype(int)\n"
     ]
    }
   ],
   "source": [
    "nonanmaster['Age'] = nonanmaster['Age'].astype(int)"
   ]
  },
  {
   "cell_type": "code",
   "execution_count": 37,
   "id": "8b1e590f",
   "metadata": {},
   "outputs": [
    {
     "name": "stderr",
     "output_type": "stream",
     "text": [
      "<ipython-input-37-4ad262b91ae9>:1: SettingWithCopyWarning: \n",
      "A value is trying to be set on a copy of a slice from a DataFrame.\n",
      "Try using .loc[row_indexer,col_indexer] = value instead\n",
      "\n",
      "See the caveats in the documentation: https://pandas.pydata.org/pandas-docs/stable/user_guide/indexing.html#returning-a-view-versus-a-copy\n",
      "  nonanmaster['Book-Rating'] = nonanmaster['Book-Rating'].astype(int)\n"
     ]
    }
   ],
   "source": [
    "nonanmaster['Book-Rating'] = nonanmaster['Book-Rating'].astype(int)"
   ]
  },
  {
   "cell_type": "code",
   "execution_count": 38,
   "id": "5f3ab90c",
   "metadata": {},
   "outputs": [
    {
     "data": {
      "text/plain": [
       "Text(0.5, 1.0, 'Book Ratings Count')"
      ]
     },
     "execution_count": 38,
     "metadata": {},
     "output_type": "execute_result"
    },
    {
     "data": {
      "image/png": "[encoded data removed]",
      "text/plain": [
       "<Figure size 720x504 with 1 Axes>"
      ]
     },
     "metadata": {
      "needs_background": "light"
     },
     "output_type": "display_data"
    }
   ],
   "source": [
    "plt.figure(figsize=(10,7))\n",
    "sns.histplot(data=nonanmaster, x='Book-Rating', binwidth=.08)\n",
    "plt.ylabel(\"Number of Ratings\")\n",
    "plt.xlabel(\"Ratings\")\n",
    "plt.title('Book Ratings Count')"
   ]
  },
  {
   "cell_type": "code",
   "execution_count": 39,
   "id": "90f6c1bf",
   "metadata": {},
   "outputs": [],
   "source": [
    "super_users = list(nonanmaster['User'].value_counts().iloc[:10].index)\n",
    "super_users_count = list(nonanmaster['User'].value_counts().iloc[:10].values)"
   ]
  },
  {
   "cell_type": "code",
   "execution_count": 40,
   "id": "c55fbe0a",
   "metadata": {},
   "outputs": [
    {
     "data": {
      "image/png": "[encoded data removed]",
      "text/plain": [
       "<Figure size 720x360 with 1 Axes>"
      ]
     },
     "metadata": {
      "needs_background": "light"
     },
     "output_type": "display_data"
    }
   ],
   "source": [
    "fig, ax= plt.subplots(figsize=(10, 5))\n",
    "\n",
    "ax.set_xlabel(\"User\")\n",
    "ax.set_ylabel(\"Number of Reviews\")\n",
    "ax.set_title(\"Top 10 Users\")\n",
    "\n",
    "x_pos = np.arange(len(super_users))\n",
    "plt.bar(x_pos, super_users_count)\n",
    "plt.xticks(x_pos, super_users)\n",
    "\n",
    "plt.show();"
   ]
  },
  {
   "cell_type": "code",
   "execution_count": 41,
   "id": "f57a4904",
   "metadata": {},
   "outputs": [],
   "source": [
    "#creating a new dataframe that removes the top 5 users to see the difference between the rec systems that have them \n",
    "#versus the one that does not\n",
    "rec_df = nonanmaster.drop(nonanmaster[(nonanmaster['User'] == 98391) | (nonanmaster['User'] == 153662) | (nonanmaster['User'] == 235105) | (nonanmaster['User'] == 171118) |\n",
    "                         (nonanmaster['User'] == 16795)].index)\n"
   ]
  },
  {
   "cell_type": "code",
   "execution_count": 42,
   "id": "d67a28f6",
   "metadata": {},
   "outputs": [
    {
     "data": {
      "image/png": "[encoded data removed]",
      "text/plain": [
       "<Figure size 720x360 with 1 Axes>"
      ]
     },
     "metadata": {
      "needs_background": "light"
     },
     "output_type": "display_data"
    }
   ],
   "source": [
    "## plotting the top 10 users without the super users\n",
    "plt.figure(figsize=(10,5))\n",
    "sns.countplot(data=rec_df, x='User', order=rec_df.User.value_counts().iloc[:10].index, color='#0079b9')\n",
    "plt.xlabel('User')\n",
    "plt.ylabel('Number of Reviews')\n",
    "plt.title('Top 10 Users');"
   ]
  },
  {
   "cell_type": "code",
   "execution_count": 43,
   "id": "484e8fe1",
   "metadata": {},
   "outputs": [],
   "source": [
    "masterslim = nonanmaster.iloc[::4, :]"
   ]
  },
  {
   "cell_type": "code",
   "execution_count": 44,
   "id": "6557a180",
   "metadata": {},
   "outputs": [
    {
     "data": {
      "text/plain": [
       "User                   21024\n",
       "Location                8284\n",
       "Age                      116\n",
       "ISBN                   42798\n",
       "Book-Rating               10\n",
       "Title                  39805\n",
       "Author                 21079\n",
       "Year-Of-Publication      143\n",
       "Publisher               4877\n",
       "Book Number            67405\n",
       "dtype: int64"
      ]
     },
     "execution_count": 44,
     "metadata": {},
     "output_type": "execute_result"
    }
   ],
   "source": [
    "masterslim.nunique()"
   ]
  },
  {
   "cell_type": "code",
   "execution_count": 45,
   "id": "27675367",
   "metadata": {},
   "outputs": [],
   "source": [
    "reader = Reader(rating_scale=(1, 10))\n",
    "\n",
    "book_surprise = Dataset.load_from_df(masterslim[['ISBN', 'User', 'Book-Rating']], reader)"
   ]
  },
  {
   "cell_type": "code",
   "execution_count": 46,
   "id": "e6694e6e",
   "metadata": {},
   "outputs": [],
   "source": [
    "train, test = train_test_split(book_surprise, test_size=0.2, random_state=42)"
   ]
  },
  {
   "cell_type": "code",
   "execution_count": 47,
   "id": "633eb2ef",
   "metadata": {},
   "outputs": [
    {
     "name": "stdout",
     "output_type": "stream",
     "text": [
      "Number of users:  35789 \n",
      "\n",
      "Number of items:  18168 \n",
      "\n"
     ]
    }
   ],
   "source": [
    "print('Number of users: ', train.n_users, '\\n')\n",
    "print('Number of items: ', train.n_items, '\\n')"
   ]
  },
  {
   "cell_type": "markdown",
   "id": "b5198d9d",
   "metadata": {},
   "source": [
    "# Memory-Based Methods\n",
    "## Cosine Similarity "
   ]
  },
  {
   "cell_type": "code",
   "execution_count": 48,
   "id": "078477fd",
   "metadata": {},
   "outputs": [],
   "source": [
    "#imports from surprise library \n",
    "from surprise import Dataset, Reader, BaselineOnly\n",
    "\n",
    "#for splitting, training, and testing\n",
    "from surprise.model_selection import cross_validate\n",
    "from surprise.model_selection.split import train_test_split\n",
    "\n",
    "#memory-based methods\n",
    "from surprise.prediction_algorithms import KNNWithMeans, KNNBasic, KNNBaseline\n",
    "from surprise.prediction_algorithms import KNNWithZScore\n",
    "\n",
    "#matrix factorization\n",
    "from surprise.prediction_algorithms import SVD\n",
    "from surprise.prediction_algorithms.matrix_factorization import SVDpp, NMF\n",
    "\n",
    "#other models \n",
    "from surprise.prediction_algorithms.slope_one import SlopeOne\n",
    "from surprise.prediction_algorithms.random_pred import NormalPredictor\n",
    "from surprise.prediction_algorithms.baseline_only import BaselineOnly\n",
    "from surprise.prediction_algorithms.co_clustering import CoClustering\n",
    "\n",
    "#metric\n",
    "from surprise import accuracy"
   ]
  },
  {
   "cell_type": "code",
   "execution_count": 49,
   "id": "5c9d98cc",
   "metadata": {},
   "outputs": [
    {
     "name": "stdout",
     "output_type": "stream",
     "text": [
      "Computing the cosine similarity matrix...\n",
      "Done computing similarity matrix.\n"
     ]
    },
    {
     "data": {
      "text/plain": [
       "<surprise.prediction_algorithms.knns.KNNBasic at 0x7feb53a7d640>"
      ]
     },
     "execution_count": 49,
     "metadata": {},
     "output_type": "execute_result"
    }
   ],
   "source": [
    "#item to item similarity \n",
    "sim_cos_item = {'name':'cosine', 'user_based':False}\n",
    "\n",
    "#instantiate KNNBasic\n",
    "basic_cos_item = KNNBasic(sim_options=sim_cos_item)\n",
    "basic_cos_item.fit(train)"
   ]
  },
  {
   "cell_type": "code",
   "execution_count": 50,
   "id": "8da3f439",
   "metadata": {},
   "outputs": [
    {
     "name": "stdout",
     "output_type": "stream",
     "text": [
      "RMSE: 1.8483\n",
      "1.8483126111375394\n"
     ]
    }
   ],
   "source": [
    "#getting predictions\n",
    "predictions_cos_item = basic_cos_item.test(test)\n",
    "print(accuracy.rmse(predictions_cos_item))"
   ]
  },
  {
   "cell_type": "code",
   "execution_count": 51,
   "id": "f353ff01",
   "metadata": {},
   "outputs": [
    {
     "name": "stdout",
     "output_type": "stream",
     "text": [
      "Computing the cosine similarity matrix...\n",
      "Done computing similarity matrix.\n"
     ]
    },
    {
     "data": {
      "text/plain": [
       "<surprise.prediction_algorithms.knns.KNNBasic at 0x7feb4f614850>"
      ]
     },
     "execution_count": 51,
     "metadata": {},
     "output_type": "execute_result"
    }
   ],
   "source": [
    "#user to user similarity\n",
    "sim_cos_user = {'name':'cosine', 'user_based':True}\n",
    "\n",
    "#instantiate KNNBasic\n",
    "basic_cos_user = KNNBasic(sim_options=sim_cos_user)\n",
    "basic_cos_user.fit(train)"
   ]
  },
  {
   "cell_type": "code",
   "execution_count": 52,
   "id": "1625fbe1",
   "metadata": {},
   "outputs": [
    {
     "name": "stdout",
     "output_type": "stream",
     "text": [
      "RMSE: 1.8269\n",
      "1.8268865960498024\n"
     ]
    }
   ],
   "source": [
    "#getting predictions\n",
    "predictions_cos_user = basic_cos_user.test(test)\n",
    "print(accuracy.rmse(predictions_cos_user))"
   ]
  },
  {
   "cell_type": "code",
   "execution_count": 53,
   "id": "40f9a120",
   "metadata": {},
   "outputs": [
    {
     "name": "stdout",
     "output_type": "stream",
     "text": [
      "Estimating biases using als...\n",
      "Computing the cosine similarity matrix...\n",
      "Done computing similarity matrix.\n"
     ]
    },
    {
     "data": {
      "text/plain": [
       "<surprise.prediction_algorithms.knns.KNNBaseline at 0x7feb4c7f4670>"
      ]
     },
     "execution_count": 53,
     "metadata": {},
     "output_type": "execute_result"
    }
   ],
   "source": [
    "#item to item similarity \n",
    "sim_cos_baseline = {'name':'cosine', 'user_based':False}\n",
    "\n",
    "#instantiate KNNBaseline\n",
    "knn_baseline_cos = KNNBaseline(sim_options=sim_cos_baseline)\n",
    "knn_baseline_cos.fit(train)"
   ]
  },
  {
   "cell_type": "code",
   "execution_count": 54,
   "id": "ceec32ce",
   "metadata": {},
   "outputs": [
    {
     "name": "stdout",
     "output_type": "stream",
     "text": [
      "RMSE: 1.7037\n",
      "1.7036770186138461\n"
     ]
    }
   ],
   "source": [
    "#getting predictions\n",
    "predictions_baseline_cos = knn_baseline_cos.test(test)\n",
    "print(accuracy.rmse(predictions_baseline_cos))"
   ]
  },
  {
   "cell_type": "code",
   "execution_count": 55,
   "id": "74d6901f",
   "metadata": {},
   "outputs": [
    {
     "name": "stdout",
     "output_type": "stream",
     "text": [
      "Estimating biases using als...\n",
      "Computing the cosine similarity matrix...\n",
      "Done computing similarity matrix.\n"
     ]
    },
    {
     "data": {
      "text/plain": [
       "<surprise.prediction_algorithms.knns.KNNBaseline at 0x7feb53ac9280>"
      ]
     },
     "execution_count": 55,
     "metadata": {},
     "output_type": "execute_result"
    }
   ],
   "source": [
    "#user to user similarity KNNBaseline\n",
    "sim_cos_baseline_u = {'name':'cosine', 'user_based':True}\n",
    "\n",
    "#instantiate KNNBaseline\n",
    "knn_baseline_cos_u = KNNBaseline(sim_options=sim_cos_baseline_u)\n",
    "knn_baseline_cos_u.fit(train)"
   ]
  },
  {
   "cell_type": "code",
   "execution_count": 56,
   "id": "0b1baa5d",
   "metadata": {},
   "outputs": [
    {
     "name": "stdout",
     "output_type": "stream",
     "text": [
      "RMSE: 1.6957\n",
      "1.6956615329921778\n"
     ]
    }
   ],
   "source": [
    "#getting predictions\n",
    "predictions_baseline_cos_u = knn_baseline_cos_u.test(test)\n",
    "print(accuracy.rmse(predictions_baseline_cos_u))"
   ]
  },
  {
   "cell_type": "markdown",
   "id": "219bf911",
   "metadata": {},
   "source": [
    "## Pearson Similarity"
   ]
  },
  {
   "cell_type": "code",
   "execution_count": 57,
   "id": "8639b8e3",
   "metadata": {},
   "outputs": [
    {
     "name": "stdout",
     "output_type": "stream",
     "text": [
      "Computing the pearson similarity matrix...\n",
      "Done computing similarity matrix.\n"
     ]
    },
    {
     "data": {
      "text/plain": [
       "<surprise.prediction_algorithms.knns.KNNBasic at 0x7feb56d63f40>"
      ]
     },
     "execution_count": 57,
     "metadata": {},
     "output_type": "execute_result"
    }
   ],
   "source": [
    "#item to item similarity \n",
    "sim_pearson = {'name':'pearson', 'user_based':False}\n",
    "\n",
    "#instantiate KNNBasic\n",
    "knn_basic_p = KNNBasic(sim_options=sim_pearson)\n",
    "knn_basic_p.fit(train)"
   ]
  },
  {
   "cell_type": "code",
   "execution_count": 58,
   "id": "445843c6",
   "metadata": {},
   "outputs": [
    {
     "name": "stdout",
     "output_type": "stream",
     "text": [
      "RMSE: 1.8233\n",
      "1.8232916995582897\n"
     ]
    }
   ],
   "source": [
    "#getting predictions\n",
    "predictions_basic = knn_basic_p.test(test)\n",
    "print(accuracy.rmse(predictions_basic))"
   ]
  },
  {
   "cell_type": "code",
   "execution_count": 59,
   "id": "34fbfd9a",
   "metadata": {},
   "outputs": [
    {
     "name": "stdout",
     "output_type": "stream",
     "text": [
      "Computing the pearson similarity matrix...\n",
      "Done computing similarity matrix.\n"
     ]
    },
    {
     "data": {
      "text/plain": [
       "<surprise.prediction_algorithms.knns.KNNWithMeans at 0x7feb53ac91c0>"
      ]
     },
     "execution_count": 59,
     "metadata": {},
     "output_type": "execute_result"
    }
   ],
   "source": [
    "#item to item similarity \n",
    "sim_pearson_means = {'name':'pearson', 'user_based':False}\n",
    "\n",
    "#instantiate KNNWithMeans\n",
    "knn_means = KNNWithMeans(sim_options=sim_pearson_means)\n",
    "knn_means.fit(train)"
   ]
  },
  {
   "cell_type": "code",
   "execution_count": 60,
   "id": "80afa38f",
   "metadata": {},
   "outputs": [
    {
     "name": "stdout",
     "output_type": "stream",
     "text": [
      "RMSE: 1.8197\n",
      "1.8197251658346039\n"
     ]
    }
   ],
   "source": [
    "#getting predictions\n",
    "predictions_means = knn_means.test(test)\n",
    "print(accuracy.rmse(predictions_means))"
   ]
  },
  {
   "cell_type": "code",
   "execution_count": 61,
   "id": "530bf3f9",
   "metadata": {},
   "outputs": [
    {
     "name": "stdout",
     "output_type": "stream",
     "text": [
      "Estimating biases using als...\n",
      "Computing the pearson similarity matrix...\n",
      "Done computing similarity matrix.\n"
     ]
    },
    {
     "data": {
      "text/plain": [
       "<surprise.prediction_algorithms.knns.KNNBaseline at 0x7feb4f61c8b0>"
      ]
     },
     "execution_count": 61,
     "metadata": {},
     "output_type": "execute_result"
    }
   ],
   "source": [
    "#item to item similarity \n",
    "sim_pearson_baseline_i = {'name':'pearson', 'user_based':False}\n",
    "\n",
    "#instantiate KNNBaseline\n",
    "knn_baseline_i = KNNBaseline(sim_options=sim_pearson_baseline_i)\n",
    "knn_baseline_i.fit(train)"
   ]
  },
  {
   "cell_type": "code",
   "execution_count": 62,
   "id": "280e2004",
   "metadata": {},
   "outputs": [
    {
     "name": "stdout",
     "output_type": "stream",
     "text": [
      "RMSE: 1.6868\n",
      "1.6867770856517013\n"
     ]
    }
   ],
   "source": [
    "#getting predictions\n",
    "predictions_baseline_i = knn_baseline_i.test(test)\n",
    "print(accuracy.rmse(predictions_baseline_i))"
   ]
  },
  {
   "cell_type": "code",
   "execution_count": 63,
   "id": "f05f76eb",
   "metadata": {},
   "outputs": [
    {
     "name": "stdout",
     "output_type": "stream",
     "text": [
      "Estimating biases using als...\n",
      "Computing the pearson similarity matrix...\n",
      "Done computing similarity matrix.\n"
     ]
    },
    {
     "data": {
      "text/plain": [
       "<surprise.prediction_algorithms.knns.KNNBaseline at 0x7feb56d63520>"
      ]
     },
     "execution_count": 63,
     "metadata": {},
     "output_type": "execute_result"
    }
   ],
   "source": [
    "#user to user similarity\n",
    "sim_pearson_baseline_u = {'name':'pearson', 'user_based':True}\n",
    "\n",
    "#instantiate KNNBaseline\n",
    "knn_baseline_u = KNNBaseline(sim_options=sim_pearson_baseline_u)\n",
    "knn_baseline_u.fit(train)"
   ]
  },
  {
   "cell_type": "code",
   "execution_count": 64,
   "id": "7396da87",
   "metadata": {},
   "outputs": [
    {
     "name": "stdout",
     "output_type": "stream",
     "text": [
      "RMSE: 1.6866\n",
      "1.686578022462164\n"
     ]
    }
   ],
   "source": [
    "#getting predictions\n",
    "predictions_baseline_u = knn_baseline_u.test(test)\n",
    "print(accuracy.rmse(predictions_baseline_u))"
   ]
  },
  {
   "cell_type": "markdown",
   "id": "8fb04d1f",
   "metadata": {},
   "source": [
    "## Model-Based Methods - SVD++, NMF and others\n",
    "\n",
    "- SlopeOne\n",
    "- NormalPredictors\n",
    "- KNNWithZScore\n",
    "- BaselineOnly\n",
    "- CoClustering"
   ]
  },
  {
   "cell_type": "code",
   "execution_count": 65,
   "id": "7e96904c",
   "metadata": {},
   "outputs": [
    {
     "name": "stderr",
     "output_type": "stream",
     "text": [
      "<ipython-input-65-1263005498e5>:11: FutureWarning: The series.append method is deprecated and will be removed from pandas in a future version. Use pandas.concat instead.\n",
      "  tmp = tmp.append(pd.Series([str(algorithm).split(' ')[0].split('.')[-1]], index=['Algorithm']))\n",
      "<ipython-input-65-1263005498e5>:11: FutureWarning: The series.append method is deprecated and will be removed from pandas in a future version. Use pandas.concat instead.\n",
      "  tmp = tmp.append(pd.Series([str(algorithm).split(' ')[0].split('.')[-1]], index=['Algorithm']))\n",
      "<ipython-input-65-1263005498e5>:11: FutureWarning: The series.append method is deprecated and will be removed from pandas in a future version. Use pandas.concat instead.\n",
      "  tmp = tmp.append(pd.Series([str(algorithm).split(' ')[0].split('.')[-1]], index=['Algorithm']))\n",
      "<ipython-input-65-1263005498e5>:11: FutureWarning: The series.append method is deprecated and will be removed from pandas in a future version. Use pandas.concat instead.\n",
      "  tmp = tmp.append(pd.Series([str(algorithm).split(' ')[0].split('.')[-1]], index=['Algorithm']))\n",
      "<ipython-input-65-1263005498e5>:11: FutureWarning: The series.append method is deprecated and will be removed from pandas in a future version. Use pandas.concat instead.\n",
      "  tmp = tmp.append(pd.Series([str(algorithm).split(' ')[0].split('.')[-1]], index=['Algorithm']))\n"
     ]
    },
    {
     "name": "stdout",
     "output_type": "stream",
     "text": [
      "Estimating biases using als...\n",
      "Computing the msd similarity matrix...\n",
      "Done computing similarity matrix.\n",
      "Estimating biases using als...\n",
      "Computing the msd similarity matrix...\n",
      "Done computing similarity matrix.\n",
      "Estimating biases using als...\n",
      "Computing the msd similarity matrix...\n",
      "Done computing similarity matrix.\n"
     ]
    },
    {
     "name": "stderr",
     "output_type": "stream",
     "text": [
      "<ipython-input-65-1263005498e5>:11: FutureWarning: The series.append method is deprecated and will be removed from pandas in a future version. Use pandas.concat instead.\n",
      "  tmp = tmp.append(pd.Series([str(algorithm).split(' ')[0].split('.')[-1]], index=['Algorithm']))\n"
     ]
    },
    {
     "name": "stdout",
     "output_type": "stream",
     "text": [
      "Computing the msd similarity matrix...\n",
      "Done computing similarity matrix.\n",
      "Computing the msd similarity matrix...\n",
      "Done computing similarity matrix.\n",
      "Computing the msd similarity matrix...\n",
      "Done computing similarity matrix.\n"
     ]
    },
    {
     "name": "stderr",
     "output_type": "stream",
     "text": [
      "<ipython-input-65-1263005498e5>:11: FutureWarning: The series.append method is deprecated and will be removed from pandas in a future version. Use pandas.concat instead.\n",
      "  tmp = tmp.append(pd.Series([str(algorithm).split(' ')[0].split('.')[-1]], index=['Algorithm']))\n"
     ]
    },
    {
     "name": "stdout",
     "output_type": "stream",
     "text": [
      "Computing the msd similarity matrix...\n",
      "Done computing similarity matrix.\n",
      "Computing the msd similarity matrix...\n",
      "Done computing similarity matrix.\n",
      "Computing the msd similarity matrix...\n",
      "Done computing similarity matrix.\n"
     ]
    },
    {
     "name": "stderr",
     "output_type": "stream",
     "text": [
      "<ipython-input-65-1263005498e5>:11: FutureWarning: The series.append method is deprecated and will be removed from pandas in a future version. Use pandas.concat instead.\n",
      "  tmp = tmp.append(pd.Series([str(algorithm).split(' ')[0].split('.')[-1]], index=['Algorithm']))\n"
     ]
    },
    {
     "name": "stdout",
     "output_type": "stream",
     "text": [
      "Computing the msd similarity matrix...\n",
      "Done computing similarity matrix.\n",
      "Computing the msd similarity matrix...\n",
      "Done computing similarity matrix.\n",
      "Computing the msd similarity matrix...\n",
      "Done computing similarity matrix.\n"
     ]
    },
    {
     "name": "stderr",
     "output_type": "stream",
     "text": [
      "<ipython-input-65-1263005498e5>:11: FutureWarning: The series.append method is deprecated and will be removed from pandas in a future version. Use pandas.concat instead.\n",
      "  tmp = tmp.append(pd.Series([str(algorithm).split(' ')[0].split('.')[-1]], index=['Algorithm']))\n"
     ]
    },
    {
     "name": "stdout",
     "output_type": "stream",
     "text": [
      "Estimating biases using als...\n",
      "Estimating biases using als...\n",
      "Estimating biases using als...\n"
     ]
    },
    {
     "name": "stderr",
     "output_type": "stream",
     "text": [
      "<ipython-input-65-1263005498e5>:11: FutureWarning: The series.append method is deprecated and will be removed from pandas in a future version. Use pandas.concat instead.\n",
      "  tmp = tmp.append(pd.Series([str(algorithm).split(' ')[0].split('.')[-1]], index=['Algorithm']))\n",
      "<ipython-input-65-1263005498e5>:11: FutureWarning: The series.append method is deprecated and will be removed from pandas in a future version. Use pandas.concat instead.\n",
      "  tmp = tmp.append(pd.Series([str(algorithm).split(' ')[0].split('.')[-1]], index=['Algorithm']))\n"
     ]
    },
    {
     "data": {
      "text/html": [
       "<div>\n",
       "<style scoped>\n",
       "    .dataframe tbody tr th:only-of-type {\n",
       "        vertical-align: middle;\n",
       "    }\n",
       "\n",
       "    .dataframe tbody tr th {\n",
       "        vertical-align: top;\n",
       "    }\n",
       "\n",
       "    .dataframe thead th {\n",
       "        text-align: right;\n",
       "    }\n",
       "</style>\n",
       "<table border=\"1\" class=\"dataframe\">\n",
       "  <thead>\n",
       "    <tr style=\"text-align: right;\">\n",
       "      <th></th>\n",
       "      <th>test_rmse</th>\n",
       "      <th>fit_time</th>\n",
       "      <th>test_time</th>\n",
       "    </tr>\n",
       "    <tr>\n",
       "      <th>Algorithm</th>\n",
       "      <th></th>\n",
       "      <th></th>\n",
       "      <th></th>\n",
       "    </tr>\n",
       "  </thead>\n",
       "  <tbody>\n",
       "    <tr>\n",
       "      <th>SVD</th>\n",
       "      <td>1.679186</td>\n",
       "      <td>2.791033</td>\n",
       "      <td>0.167281</td>\n",
       "    </tr>\n",
       "    <tr>\n",
       "      <th>BaselineOnly</th>\n",
       "      <td>1.681094</td>\n",
       "      <td>0.270000</td>\n",
       "      <td>0.117332</td>\n",
       "    </tr>\n",
       "    <tr>\n",
       "      <th>KNNBaseline</th>\n",
       "      <td>1.687163</td>\n",
       "      <td>47.365529</td>\n",
       "      <td>1.050577</td>\n",
       "    </tr>\n",
       "    <tr>\n",
       "      <th>SVDpp</th>\n",
       "      <td>1.690134</td>\n",
       "      <td>5.452639</td>\n",
       "      <td>0.293300</td>\n",
       "    </tr>\n",
       "    <tr>\n",
       "      <th>KNNBasic</th>\n",
       "      <td>1.815744</td>\n",
       "      <td>50.089959</td>\n",
       "      <td>0.793025</td>\n",
       "    </tr>\n",
       "    <tr>\n",
       "      <th>KNNWithMeans</th>\n",
       "      <td>1.914695</td>\n",
       "      <td>50.183261</td>\n",
       "      <td>0.671482</td>\n",
       "    </tr>\n",
       "    <tr>\n",
       "      <th>SlopeOne</th>\n",
       "      <td>1.923341</td>\n",
       "      <td>9.166563</td>\n",
       "      <td>0.197704</td>\n",
       "    </tr>\n",
       "    <tr>\n",
       "      <th>KNNWithZScore</th>\n",
       "      <td>1.925698</td>\n",
       "      <td>49.330058</td>\n",
       "      <td>0.793636</td>\n",
       "    </tr>\n",
       "    <tr>\n",
       "      <th>CoClustering</th>\n",
       "      <td>1.928797</td>\n",
       "      <td>3.932093</td>\n",
       "      <td>0.106559</td>\n",
       "    </tr>\n",
       "    <tr>\n",
       "      <th>NMF</th>\n",
       "      <td>2.360969</td>\n",
       "      <td>5.917340</td>\n",
       "      <td>0.111462</td>\n",
       "    </tr>\n",
       "    <tr>\n",
       "      <th>NormalPredictor</th>\n",
       "      <td>2.458191</td>\n",
       "      <td>0.060032</td>\n",
       "      <td>0.109833</td>\n",
       "    </tr>\n",
       "  </tbody>\n",
       "</table>\n",
       "</div>"
      ],
      "text/plain": [
       "                 test_rmse   fit_time  test_time\n",
       "Algorithm                                       \n",
       "SVD               1.679186   2.791033   0.167281\n",
       "BaselineOnly      1.681094   0.270000   0.117332\n",
       "KNNBaseline       1.687163  47.365529   1.050577\n",
       "SVDpp             1.690134   5.452639   0.293300\n",
       "KNNBasic          1.815744  50.089959   0.793025\n",
       "KNNWithMeans      1.914695  50.183261   0.671482\n",
       "SlopeOne          1.923341   9.166563   0.197704\n",
       "KNNWithZScore     1.925698  49.330058   0.793636\n",
       "CoClustering      1.928797   3.932093   0.106559\n",
       "NMF               2.360969   5.917340   0.111462\n",
       "NormalPredictor   2.458191   0.060032   0.109833"
      ]
     },
     "execution_count": 65,
     "metadata": {},
     "output_type": "execute_result"
    }
   ],
   "source": [
    "#seeing which models out of all the above would give the best RMSE value \n",
    "\n",
    "benchmark = []\n",
    "#Iterate over all algorithms\n",
    "for algorithm in [SVD(), SVDpp(), SlopeOne(), NMF(), NormalPredictor(), KNNBaseline(), KNNBasic(), KNNWithMeans(), KNNWithZScore(), BaselineOnly(), CoClustering()]:\n",
    "     #Perform cross validation\n",
    "        results = cross_validate(algorithm, book_surprise, measures=['RMSE'], cv=3, verbose=False)\n",
    "    \n",
    "            #Get results & append algorithm name\n",
    "        tmp = pd.DataFrame.from_dict(results).mean(axis=0)\n",
    "        tmp = tmp.append(pd.Series([str(algorithm).split(' ')[0].split('.')[-1]], index=['Algorithm']))\n",
    "        benchmark.append(tmp)\n",
    "    \n",
    "pd.DataFrame(benchmark).set_index('Algorithm').sort_values('test_rmse') "
   ]
  },
  {
   "cell_type": "code",
   "execution_count": 66,
   "id": "827479f6",
   "metadata": {},
   "outputs": [],
   "source": [
    "#final model with super users\n",
    "model = SVDpp(random_state=42)\n",
    "results = cross_validate(model, book_surprise, measures=['RMSE'], cv=3, verbose=False)"
   ]
  },
  {
   "cell_type": "code",
   "execution_count": 67,
   "id": "a8e8f80d",
   "metadata": {},
   "outputs": [
    {
     "data": {
      "text/plain": [
       "{'test_rmse': array([1.67821086, 1.68798489, 1.70667414]),\n",
       " 'fit_time': (5.0188820362091064, 4.78751015663147, 4.821069955825806),\n",
       " 'test_time': (0.21665287017822266, 0.3776230812072754, 0.21828103065490723)}"
      ]
     },
     "execution_count": 67,
     "metadata": {},
     "output_type": "execute_result"
    }
   ],
   "source": [
    "results"
   ]
  },
  {
   "cell_type": "code",
   "execution_count": 68,
   "id": "e1e26a6e",
   "metadata": {},
   "outputs": [
    {
     "data": {
      "text/plain": [
       "Prediction(uid=10, iid=30, r_ui=None, est=7.742322528002374, details={'was_impossible': False})"
      ]
     },
     "execution_count": 68,
     "metadata": {},
     "output_type": "execute_result"
    }
   ],
   "source": [
    "#predicting user 777 with Book Number 30\n",
    "model.fit(train)\n",
    "model.predict(777, 30)"
   ]
  },
  {
   "cell_type": "markdown",
   "id": "1e28e22c",
   "metadata": {},
   "source": [
    "### Cold Start Solution\n"
   ]
  },
  {
   "cell_type": "code",
   "execution_count": 69,
   "id": "001aaef1",
   "metadata": {},
   "outputs": [],
   "source": [
    "def book_rater(book_df, num, title=None):\n",
    "    user = 777\n",
    "    rating_list = []\n",
    "    while num > 0:\n",
    "        if title:\n",
    "            book = book_df[book_df['Title'].str.contains(title)].sample(1)\n",
    "        else:\n",
    "            book = book_df.sample(1)\n",
    "        print(book)\n",
    "        rating = input('How do you rate this book on a scale of 1-10, press n if you have not seen :\\n')\n",
    "        if rating == 'n':\n",
    "            continue\n",
    "        else:\n",
    "            rating_one_book = {'User':user, 'Book Number':book['Book Number'].values[0],'rating':rating}\n",
    "            rating_list.append(rating_one_book) \n",
    "            num -= 1\n",
    "    return rating_list"
   ]
  },
  {
   "cell_type": "code",
   "execution_count": 70,
   "id": "f003ed91",
   "metadata": {},
   "outputs": [
    {
     "data": {
      "text/html": [
       "<div>\n",
       "<style scoped>\n",
       "    .dataframe tbody tr th:only-of-type {\n",
       "        vertical-align: middle;\n",
       "    }\n",
       "\n",
       "    .dataframe tbody tr th {\n",
       "        vertical-align: top;\n",
       "    }\n",
       "\n",
       "    .dataframe thead th {\n",
       "        text-align: right;\n",
       "    }\n",
       "</style>\n",
       "<table border=\"1\" class=\"dataframe\">\n",
       "  <thead>\n",
       "    <tr style=\"text-align: right;\">\n",
       "      <th></th>\n",
       "      <th>User</th>\n",
       "      <th>Book Number</th>\n",
       "      <th>Book-Rating</th>\n",
       "    </tr>\n",
       "  </thead>\n",
       "  <tbody>\n",
       "    <tr>\n",
       "      <th>48</th>\n",
       "      <td>19</td>\n",
       "      <td>48</td>\n",
       "      <td>7</td>\n",
       "    </tr>\n",
       "    <tr>\n",
       "      <th>104</th>\n",
       "      <td>56</td>\n",
       "      <td>104</td>\n",
       "      <td>7</td>\n",
       "    </tr>\n",
       "    <tr>\n",
       "      <th>128</th>\n",
       "      <td>70</td>\n",
       "      <td>128</td>\n",
       "      <td>10</td>\n",
       "    </tr>\n",
       "    <tr>\n",
       "      <th>156</th>\n",
       "      <td>92</td>\n",
       "      <td>156</td>\n",
       "      <td>7</td>\n",
       "    </tr>\n",
       "    <tr>\n",
       "      <th>166</th>\n",
       "      <td>99</td>\n",
       "      <td>166</td>\n",
       "      <td>8</td>\n",
       "    </tr>\n",
       "  </tbody>\n",
       "</table>\n",
       "</div>"
      ],
      "text/plain": [
       "     User  Book Number  Book-Rating\n",
       "48     19           48            7\n",
       "104    56          104            7\n",
       "128    70          128           10\n",
       "156    92          156            7\n",
       "166    99          166            8"
      ]
     },
     "execution_count": 70,
     "metadata": {},
     "output_type": "execute_result"
    }
   ],
   "source": [
    "#creating new dataframe that only contains the following:\n",
    "predict_df = masterslim[['User', 'Book Number', 'Book-Rating']]\n",
    "predict_df.head()"
   ]
  },
  {
   "cell_type": "code",
   "execution_count": 71,
   "id": "0f12175a",
   "metadata": {},
   "outputs": [],
   "source": [
    "#creating new dataframe and keeping only the User, Title, Book Number, Age, and Book-Rating columns\n",
    "rater_df = masterslim.drop(columns=['Location', 'Age', 'Year-Of-Publication'], axis=1)"
   ]
  },
  {
   "cell_type": "code",
   "execution_count": 72,
   "id": "a414109e",
   "metadata": {},
   "outputs": [
    {
     "name": "stdout",
     "output_type": "stream",
     "text": [
      "           User        ISBN  Book-Rating  \\\n",
      "1028397  218411  0375713123            9   \n",
      "\n",
      "                                                     Title        Author  \\\n",
      "1028397  The Rotters' Club (Vintage Contemporaries (Pap...  Jonathan Coe   \n",
      "\n",
      "                 Publisher  Book Number  \n",
      "1028397  Vintage Books USA      1028397  \n",
      "How do you rate this book on a scale of 1-10, press n if you have not seen :\n",
      "9\n",
      "          User        ISBN  Book-Rating                               Title  \\\n",
      "639557  135677  8401460913            7  PanamÃ¡, PanamÃ¡! (Manantial ; 91)   \n",
      "\n",
      "                           Author           Publisher  Book Number  \n",
      "639557  Alberto VÃ¡zquez-Figueroa  Plaza &amp; JanÃ©s       639557  \n",
      "How do you rate this book on a scale of 1-10, press n if you have not seen :\n",
      "9\n",
      "         User        ISBN  Book-Rating                            Title  \\\n",
      "454079  97324  097076524X            8  My World Is Not of This Kingdom   \n",
      "\n",
      "              Author    Publisher  Book Number  \n",
      "454079  Joao De Melo  Aliform Pub       454079  \n",
      "How do you rate this book on a scale of 1-10, press n if you have not seen :\n",
      "9\n",
      "         User        ISBN  Book-Rating  \\\n",
      "159478  33345  0679454292            7   \n",
      "\n",
      "                                         Title       Author         Publisher  \\\n",
      "159478  The Death and Life of Bobby Z: A Novel  Don Winslow  Random House Inc   \n",
      "\n",
      "        Book Number  \n",
      "159478       159478  \n",
      "How do you rate this book on a scale of 1-10, press n if you have not seen :\n",
      "9\n",
      "         User        ISBN  Book-Rating              Title     Author  \\\n",
      "134260  28865  0385504209           10  The Da Vinci Code  Dan Brown   \n",
      "\n",
      "        Publisher  Book Number  \n",
      "134260  Doubleday       134260  \n",
      "How do you rate this book on a scale of 1-10, press n if you have not seen :\n",
      "9\n",
      "         User        ISBN  Book-Rating  \\\n",
      "228220  48037  0425173755            8   \n",
      "\n",
      "                                                    Title           Author  \\\n",
      "228220  Murder on the Orient Express (Hercule Poirot M...  Agatha Christie   \n",
      "\n",
      "                       Publisher  Book Number  \n",
      "228220  Berkley Publishing Group       228220  \n",
      "How do you rate this book on a scale of 1-10, press n if you have not seen :\n",
      "9\n",
      "          User        ISBN  Book-Rating              Title  \\\n",
      "784753  167878  2070301028            7  Quelqu'un d'autre   \n",
      "\n",
      "                    Author  Publisher  Book Number  \n",
      "784753  Tonino Benacquista  Gallimard       784753  \n",
      "How do you rate this book on a scale of 1-10, press n if you have not seen :\n",
      "9\n",
      "          User        ISBN  Book-Rating  \\\n",
      "791674  169682  0452260116            7   \n",
      "\n",
      "                                                  Title         Author  \\\n",
      "791674  Song of Solomon (Oprah's Book Club (Paperback))  Toni Morrison   \n",
      "\n",
      "          Publisher  Book Number  \n",
      "791674  Plume Books       791674  \n",
      "How do you rate this book on a scale of 1-10, press n if you have not seen :\n",
      "9\n",
      "          User        ISBN  Book-Rating  \\\n",
      "575535  123732  0312171838           10   \n",
      "\n",
      "                                         Title           Author  \\\n",
      "575535  Bachelor Brothers' Bed &amp; Breakfast  Bill Richardson   \n",
      "\n",
      "                   Publisher  Book Number  \n",
      "575535  St. Martin's Griffin       575535  \n",
      "How do you rate this book on a scale of 1-10, press n if you have not seen :\n",
      "9\n",
      "         User        ISBN  Book-Rating  \\\n",
      "303566  63714  1857996178           10   \n",
      "\n",
      "                                         Title          Author  \\\n",
      "303566  Human Origins (Phoenix 60p Paperbacks)  Richard Leakey   \n",
      "\n",
      "                  Publisher  Book Number  \n",
      "303566  Orion Publishing Co       303566  \n",
      "How do you rate this book on a scale of 1-10, press n if you have not seen :\n",
      "9\n"
     ]
    }
   ],
   "source": [
    "user_rating = book_rater(rater_df, 10)"
   ]
  },
  {
   "cell_type": "markdown",
   "id": "7b0acd7a",
   "metadata": {},
   "source": [
    "# creating new dataframe that only contains the following:\n",
    "predict_df = masterslim[['User', 'Book Number', 'Book-Rating']]\n",
    "predict_df.head()"
   ]
  },
  {
   "cell_type": "code",
   "execution_count": 73,
   "id": "c983b7bc",
   "metadata": {},
   "outputs": [],
   "source": [
    "#creating a dictionary of the above movies \n",
    "user_rating = [{'User': 777, 'Book Number': 1323330, 'Book-Rating': 4},\n",
    "               {'User': 777, 'Book Number': 1323331, 'Book-Rating': 3},\n",
    "               {'User': 777, 'Book Number': 1323332, 'Book-Rating': 2},\n",
    "               {'User': 777, 'Book Number': 1323333, 'Book-Rating': 1},\n",
    "               {'User': 777, 'Book Number': 1323334, 'Book-Rating': 5},\n",
    "               {'User': 777, 'Book Number': 1323335, 'Book-Rating': 4},\n",
    "               {'User': 777, 'Book Number': 1323336, 'Book-Rating': 3},\n",
    "               {'User': 777, 'Book Number': 1323337, 'Book-Rating': 2},\n",
    "               {'User': 777, 'Book Number': 1323338, 'Book-Rating': 1},\n",
    "               {'User': 777, 'Book Number': 1323339, 'Book-Rating': 5},\n",
    "               {'User': 777, 'Book Number': 1323340, 'Book-Rating': 4},\n",
    "               {'User': 777, 'Book Number': 1323341, 'Book-Rating': 3}]"
   ]
  },
  {
   "cell_type": "markdown",
   "id": "48e36bf3",
   "metadata": {},
   "source": [
    "## Making Predictions for User 777"
   ]
  },
  {
   "cell_type": "code",
   "execution_count": 74,
   "id": "752ff947",
   "metadata": {},
   "outputs": [
    {
     "name": "stderr",
     "output_type": "stream",
     "text": [
      "<ipython-input-74-fd81ff80df55>:2: FutureWarning: The frame.append method is deprecated and will be removed from pandas in a future version. Use pandas.concat instead.\n",
      "  new_ratings_df = predict_df.append(user_rating,ignore_index=True)\n"
     ]
    }
   ],
   "source": [
    "## add the new ratings to the original ratings DataFrame\n",
    "new_ratings_df = predict_df.append(user_rating,ignore_index=True)\n",
    "new_data = Dataset.load_from_df(new_ratings_df,reader)"
   ]
  },
  {
   "cell_type": "code",
   "execution_count": 75,
   "id": "9909febf",
   "metadata": {},
   "outputs": [
    {
     "data": {
      "text/html": [
       "<div>\n",
       "<style scoped>\n",
       "    .dataframe tbody tr th:only-of-type {\n",
       "        vertical-align: middle;\n",
       "    }\n",
       "\n",
       "    .dataframe tbody tr th {\n",
       "        vertical-align: top;\n",
       "    }\n",
       "\n",
       "    .dataframe thead th {\n",
       "        text-align: right;\n",
       "    }\n",
       "</style>\n",
       "<table border=\"1\" class=\"dataframe\">\n",
       "  <thead>\n",
       "    <tr style=\"text-align: right;\">\n",
       "      <th></th>\n",
       "      <th>User</th>\n",
       "      <th>Book Number</th>\n",
       "      <th>Book-Rating</th>\n",
       "    </tr>\n",
       "  </thead>\n",
       "  <tbody>\n",
       "    <tr>\n",
       "      <th>67405</th>\n",
       "      <td>777</td>\n",
       "      <td>1323330</td>\n",
       "      <td>4</td>\n",
       "    </tr>\n",
       "    <tr>\n",
       "      <th>67406</th>\n",
       "      <td>777</td>\n",
       "      <td>1323331</td>\n",
       "      <td>3</td>\n",
       "    </tr>\n",
       "    <tr>\n",
       "      <th>67407</th>\n",
       "      <td>777</td>\n",
       "      <td>1323332</td>\n",
       "      <td>2</td>\n",
       "    </tr>\n",
       "    <tr>\n",
       "      <th>67408</th>\n",
       "      <td>777</td>\n",
       "      <td>1323333</td>\n",
       "      <td>1</td>\n",
       "    </tr>\n",
       "    <tr>\n",
       "      <th>67409</th>\n",
       "      <td>777</td>\n",
       "      <td>1323334</td>\n",
       "      <td>5</td>\n",
       "    </tr>\n",
       "    <tr>\n",
       "      <th>67410</th>\n",
       "      <td>777</td>\n",
       "      <td>1323335</td>\n",
       "      <td>4</td>\n",
       "    </tr>\n",
       "    <tr>\n",
       "      <th>67411</th>\n",
       "      <td>777</td>\n",
       "      <td>1323336</td>\n",
       "      <td>3</td>\n",
       "    </tr>\n",
       "    <tr>\n",
       "      <th>67412</th>\n",
       "      <td>777</td>\n",
       "      <td>1323337</td>\n",
       "      <td>2</td>\n",
       "    </tr>\n",
       "    <tr>\n",
       "      <th>67413</th>\n",
       "      <td>777</td>\n",
       "      <td>1323338</td>\n",
       "      <td>1</td>\n",
       "    </tr>\n",
       "    <tr>\n",
       "      <th>67414</th>\n",
       "      <td>777</td>\n",
       "      <td>1323339</td>\n",
       "      <td>5</td>\n",
       "    </tr>\n",
       "    <tr>\n",
       "      <th>67415</th>\n",
       "      <td>777</td>\n",
       "      <td>1323340</td>\n",
       "      <td>4</td>\n",
       "    </tr>\n",
       "    <tr>\n",
       "      <th>67416</th>\n",
       "      <td>777</td>\n",
       "      <td>1323341</td>\n",
       "      <td>3</td>\n",
       "    </tr>\n",
       "  </tbody>\n",
       "</table>\n",
       "</div>"
      ],
      "text/plain": [
       "       User  Book Number  Book-Rating\n",
       "67405   777      1323330            4\n",
       "67406   777      1323331            3\n",
       "67407   777      1323332            2\n",
       "67408   777      1323333            1\n",
       "67409   777      1323334            5\n",
       "67410   777      1323335            4\n",
       "67411   777      1323336            3\n",
       "67412   777      1323337            2\n",
       "67413   777      1323338            1\n",
       "67414   777      1323339            5\n",
       "67415   777      1323340            4\n",
       "67416   777      1323341            3"
      ]
     },
     "execution_count": 75,
     "metadata": {},
     "output_type": "execute_result"
    }
   ],
   "source": [
    "#making sure user 777 is added\n",
    "new_ratings_df.loc[new_ratings_df['User'] == 777]"
   ]
  },
  {
   "cell_type": "code",
   "execution_count": 76,
   "id": "f5f8d8ac",
   "metadata": {},
   "outputs": [
    {
     "data": {
      "text/plain": [
       "<surprise.prediction_algorithms.matrix_factorization.SVDpp at 0x7feb5353b850>"
      ]
     },
     "execution_count": 76,
     "metadata": {},
     "output_type": "execute_result"
    }
   ],
   "source": [
    "#instantiaing and fitting SVD++ model of the trainset\n",
    "SVDpp_ = SVDpp(random_state=42)\n",
    "SVDpp_.fit(new_data.build_full_trainset())"
   ]
  },
  {
   "cell_type": "code",
   "execution_count": 77,
   "id": "9633b954",
   "metadata": {},
   "outputs": [],
   "source": [
    "#creating list of movies to get a ranking\n",
    "list_of_books = []\n",
    "for m_id in new_ratings_df['Book Number'].unique():\n",
    "    list_of_books.append((m_id,SVDpp_.predict(10,m_id)[3]))"
   ]
  },
  {
   "cell_type": "code",
   "execution_count": 78,
   "id": "0c3c36d5",
   "metadata": {},
   "outputs": [],
   "source": [
    "#sorting the list of movies\n",
    "ranked_books = sorted(list_of_books, key=lambda x:x[1], reverse=True)"
   ]
  },
  {
   "cell_type": "code",
   "execution_count": 79,
   "id": "a3bc753e",
   "metadata": {},
   "outputs": [
    {
     "name": "stdout",
     "output_type": "stream",
     "text": [
      "Recommendation #  1 :  871454    Harry Potter and the Order of the Phoenix (Boo...\n",
      "Name: Title, dtype: object \n",
      "\n",
      "Recommendation #  2 :  592115    Spring Collection\n",
      "Name: Title, dtype: object \n",
      "\n",
      "Recommendation #  3 :  168654    The Blue Nowhere : A Novel\n",
      "Name: Title, dtype: object \n",
      "\n",
      "Recommendation #  4 :  1254487    Born in Ice\n",
      "Name: Title, dtype: object \n",
      "\n",
      "Recommendation #  5 :  1254347    Irish Hearts\n",
      "Name: Title, dtype: object \n",
      "\n"
     ]
    }
   ],
   "source": [
    "# return the top n recommendations using the user rating that was inputted\n",
    "def recommended_books(user_ratings, book_title_df, n):\n",
    "    for idx, rec in enumerate(user_ratings):\n",
    "        title = book_title_df.loc[book_title_df['Book Number'] == int(rec[0])]['Title']\n",
    "        print('Recommendation # ', idx+1, ': ', title, '\\n')\n",
    "        n-= 1\n",
    "        if n == 0:\n",
    "            break\n",
    "            \n",
    "recommended_books(ranked_books, masterslim, 5)"
   ]
  },
  {
   "cell_type": "markdown",
   "id": "602e0ee4",
   "metadata": {},
   "source": [
    "-------\n",
    "## Final Recommendation System Without Super Users"
   ]
  },
  {
   "cell_type": "code",
   "execution_count": 80,
   "id": "d32aa378",
   "metadata": {},
   "outputs": [
    {
     "data": {
      "text/html": [
       "<div>\n",
       "<style scoped>\n",
       "    .dataframe tbody tr th:only-of-type {\n",
       "        vertical-align: middle;\n",
       "    }\n",
       "\n",
       "    .dataframe tbody tr th {\n",
       "        vertical-align: top;\n",
       "    }\n",
       "\n",
       "    .dataframe thead th {\n",
       "        text-align: right;\n",
       "    }\n",
       "</style>\n",
       "<table border=\"1\" class=\"dataframe\">\n",
       "  <thead>\n",
       "    <tr style=\"text-align: right;\">\n",
       "      <th></th>\n",
       "      <th>User</th>\n",
       "      <th>Location</th>\n",
       "      <th>Age</th>\n",
       "      <th>ISBN</th>\n",
       "      <th>Book-Rating</th>\n",
       "      <th>Title</th>\n",
       "      <th>Author</th>\n",
       "      <th>Year-Of-Publication</th>\n",
       "      <th>Publisher</th>\n",
       "      <th>Book Number</th>\n",
       "    </tr>\n",
       "  </thead>\n",
       "  <tbody>\n",
       "    <tr>\n",
       "      <th>48</th>\n",
       "      <td>19</td>\n",
       "      <td>weston, ,</td>\n",
       "      <td>14</td>\n",
       "      <td>0375759778</td>\n",
       "      <td>7</td>\n",
       "      <td>Prague : A Novel</td>\n",
       "      <td>ARTHUR PHILLIPS</td>\n",
       "      <td>2003</td>\n",
       "      <td>Random House Trade Paperbacks</td>\n",
       "      <td>48</td>\n",
       "    </tr>\n",
       "    <tr>\n",
       "      <th>80</th>\n",
       "      <td>42</td>\n",
       "      <td>appleton, wisconsin, usa</td>\n",
       "      <td>17</td>\n",
       "      <td>0553582747</td>\n",
       "      <td>7</td>\n",
       "      <td>From the Corner of His Eye</td>\n",
       "      <td>Dean Koontz</td>\n",
       "      <td>2001</td>\n",
       "      <td>Bantam Books</td>\n",
       "      <td>80</td>\n",
       "    </tr>\n",
       "    <tr>\n",
       "      <th>84</th>\n",
       "      <td>44</td>\n",
       "      <td>black mountain, north carolina, usa</td>\n",
       "      <td>51</td>\n",
       "      <td>0440223571</td>\n",
       "      <td>8</td>\n",
       "      <td>This Year It Will Be Different: And Other Stories</td>\n",
       "      <td>Maeve Binchy</td>\n",
       "      <td>1997</td>\n",
       "      <td>Dell</td>\n",
       "      <td>84</td>\n",
       "    </tr>\n",
       "    <tr>\n",
       "      <th>93</th>\n",
       "      <td>51</td>\n",
       "      <td>renton, washington, usa</td>\n",
       "      <td>34</td>\n",
       "      <td>0440225701</td>\n",
       "      <td>9</td>\n",
       "      <td>The Street Lawyer</td>\n",
       "      <td>JOHN GRISHAM</td>\n",
       "      <td>1999</td>\n",
       "      <td>Dell</td>\n",
       "      <td>93</td>\n",
       "    </tr>\n",
       "    <tr>\n",
       "      <th>104</th>\n",
       "      <td>56</td>\n",
       "      <td>cheyenne, wyoming, usa</td>\n",
       "      <td>24</td>\n",
       "      <td>0671623249</td>\n",
       "      <td>7</td>\n",
       "      <td>LONESOME DOVE</td>\n",
       "      <td>Larry McMurtry</td>\n",
       "      <td>1986</td>\n",
       "      <td>Pocket</td>\n",
       "      <td>104</td>\n",
       "    </tr>\n",
       "  </tbody>\n",
       "</table>\n",
       "</div>"
      ],
      "text/plain": [
       "     User                             Location  Age        ISBN  Book-Rating  \\\n",
       "48     19                            weston, ,   14  0375759778            7   \n",
       "80     42             appleton, wisconsin, usa   17  0553582747            7   \n",
       "84     44  black mountain, north carolina, usa   51  0440223571            8   \n",
       "93     51              renton, washington, usa   34  0440225701            9   \n",
       "104    56               cheyenne, wyoming, usa   24  0671623249            7   \n",
       "\n",
       "                                                 Title           Author  \\\n",
       "48                                    Prague : A Novel  ARTHUR PHILLIPS   \n",
       "80                          From the Corner of His Eye      Dean Koontz   \n",
       "84   This Year It Will Be Different: And Other Stories     Maeve Binchy   \n",
       "93                                   The Street Lawyer     JOHN GRISHAM   \n",
       "104                                      LONESOME DOVE   Larry McMurtry   \n",
       "\n",
       "    Year-Of-Publication                      Publisher  Book Number  \n",
       "48                 2003  Random House Trade Paperbacks           48  \n",
       "80                 2001                   Bantam Books           80  \n",
       "84                 1997                           Dell           84  \n",
       "93                 1999                           Dell           93  \n",
       "104                1986                         Pocket          104  "
      ]
     },
     "metadata": {},
     "output_type": "display_data"
    },
    {
     "data": {
      "text/plain": [
       "248718    941\n",
       "56399     837\n",
       "197659    781\n",
       "185233    698\n",
       "95359     606\n",
       "         ... \n",
       "120886      1\n",
       "120862      1\n",
       "120861      1\n",
       "120852      1\n",
       "278852      1\n",
       "Name: User, Length: 40538, dtype: int64"
      ]
     },
     "metadata": {},
     "output_type": "display_data"
    }
   ],
   "source": [
    "#using rec_df - without super users\n",
    "display(rec_df.head())\n",
    "display(rec_df['User'].value_counts())"
   ]
  },
  {
   "cell_type": "code",
   "execution_count": 81,
   "id": "1f983aa3",
   "metadata": {},
   "outputs": [],
   "source": [
    "#loading the Reader as a rating scale of 0.5 to 5\n",
    "reader_ns = Reader(rating_scale=(0.5, 5))\n",
    "\n",
    "#loading pandas dataframe rec_df as a surprise dataset -- only contains the features movieId, userId, and rating\n",
    "#movie contains the super users\n",
    "no_supers = Dataset.load_from_df(rec_df[['Book Number', 'User', 'Book-Rating']], reader_ns)"
   ]
  },
  {
   "cell_type": "code",
   "execution_count": 82,
   "id": "a6cca5f6",
   "metadata": {},
   "outputs": [],
   "source": [
    "#train test split\n",
    "train_no_supers, test_no_supers = train_test_split(no_supers, test_size=0.2, random_state=42)"
   ]
  },
  {
   "cell_type": "code",
   "execution_count": 83,
   "id": "f21812a6",
   "metadata": {},
   "outputs": [],
   "source": [
    "#instantiating model \n",
    "model_no_supers = SVDpp(random_state=42)\n",
    "results_no_supers = cross_validate(model_no_supers, no_supers, measures=['RMSE'], cv=3, verbose=False)"
   ]
  },
  {
   "cell_type": "code",
   "execution_count": 84,
   "id": "bcc49f05",
   "metadata": {},
   "outputs": [
    {
     "data": {
      "text/plain": [
       "{'test_rmse': array([3.26061656, 3.2683261 , 3.2670454 ]),\n",
       " 'fit_time': (13.21627688407898, 13.892255067825317, 14.563261032104492),\n",
       " 'test_time': (0.48035144805908203, 0.8086540699005127, 0.873183012008667)}"
      ]
     },
     "execution_count": 84,
     "metadata": {},
     "output_type": "execute_result"
    }
   ],
   "source": [
    "#results\n",
    "results_no_supers"
   ]
  },
  {
   "cell_type": "code",
   "execution_count": 85,
   "id": "00249ad0",
   "metadata": {},
   "outputs": [
    {
     "data": {
      "text/plain": [
       "Prediction(uid=1100, iid=1100, r_ui=None, est=5, details={'was_impossible': False})"
      ]
     },
     "execution_count": 85,
     "metadata": {},
     "output_type": "execute_result"
    }
   ],
   "source": [
    "#predicting user 1100 and Book Number 1100 \n",
    "model_no_supers.predict(1100, 1100)"
   ]
  },
  {
   "cell_type": "markdown",
   "id": "e2bbd01f",
   "metadata": {},
   "source": [
    "# Insight\n",
    "Superusers helped improve accuracy by reducing the error rate by 1.58% \n",
    "\n",
    "(No Supers test rmse: 3.271 - Supers test rmse: 1.696 = 1.575 or 1.58"
   ]
  },
  {
   "cell_type": "code",
   "execution_count": 86,
   "id": "fbff8758",
   "metadata": {},
   "outputs": [
    {
     "data": {
      "text/html": [
       "<div>\n",
       "<style scoped>\n",
       "    .dataframe tbody tr th:only-of-type {\n",
       "        vertical-align: middle;\n",
       "    }\n",
       "\n",
       "    .dataframe tbody tr th {\n",
       "        vertical-align: top;\n",
       "    }\n",
       "\n",
       "    .dataframe thead th {\n",
       "        text-align: right;\n",
       "    }\n",
       "</style>\n",
       "<table border=\"1\" class=\"dataframe\">\n",
       "  <thead>\n",
       "    <tr style=\"text-align: right;\">\n",
       "      <th></th>\n",
       "      <th>Book Number</th>\n",
       "      <th>User</th>\n",
       "      <th>Book-Rating</th>\n",
       "    </tr>\n",
       "  </thead>\n",
       "  <tbody>\n",
       "    <tr>\n",
       "      <th>48</th>\n",
       "      <td>48</td>\n",
       "      <td>19</td>\n",
       "      <td>7</td>\n",
       "    </tr>\n",
       "    <tr>\n",
       "      <th>80</th>\n",
       "      <td>80</td>\n",
       "      <td>42</td>\n",
       "      <td>7</td>\n",
       "    </tr>\n",
       "    <tr>\n",
       "      <th>84</th>\n",
       "      <td>84</td>\n",
       "      <td>44</td>\n",
       "      <td>8</td>\n",
       "    </tr>\n",
       "    <tr>\n",
       "      <th>93</th>\n",
       "      <td>93</td>\n",
       "      <td>51</td>\n",
       "      <td>9</td>\n",
       "    </tr>\n",
       "    <tr>\n",
       "      <th>104</th>\n",
       "      <td>104</td>\n",
       "      <td>56</td>\n",
       "      <td>7</td>\n",
       "    </tr>\n",
       "  </tbody>\n",
       "</table>\n",
       "</div>"
      ],
      "text/plain": [
       "     Book Number  User  Book-Rating\n",
       "48            48    19            7\n",
       "80            80    42            7\n",
       "84            84    44            8\n",
       "93            93    51            9\n",
       "104          104    56            7"
      ]
     },
     "execution_count": 86,
     "metadata": {},
     "output_type": "execute_result"
    }
   ],
   "source": [
    "#creating a df with only userId, movieId, and rating\n",
    "rater_df_no_supers = rec_df[['Book Number', 'User', 'Book-Rating']]\n",
    "\n",
    "#sanity check\n",
    "rater_df_no_supers.head()"
   ]
  },
  {
   "cell_type": "code",
   "execution_count": 87,
   "id": "f05d4ef1",
   "metadata": {},
   "outputs": [
    {
     "name": "stderr",
     "output_type": "stream",
     "text": [
      "<ipython-input-87-424e7a34c744>:2: FutureWarning: The frame.append method is deprecated and will be removed from pandas in a future version. Use pandas.concat instead.\n",
      "  new_ratings_df_no_supers = rater_df_no_supers.append(user_rating,ignore_index=True)\n"
     ]
    }
   ],
   "source": [
    "#add the new ratings to the original ratings DataFrame\n",
    "new_ratings_df_no_supers = rater_df_no_supers.append(user_rating,ignore_index=True)\n",
    "new_data_no_supers = Dataset.load_from_df(new_ratings_df_no_supers,reader)"
   ]
  },
  {
   "cell_type": "code",
   "execution_count": 88,
   "id": "02a8cb02",
   "metadata": {},
   "outputs": [
    {
     "data": {
      "text/plain": [
       "<surprise.prediction_algorithms.matrix_factorization.SVDpp at 0x7feb4fba1490>"
      ]
     },
     "execution_count": 88,
     "metadata": {},
     "output_type": "execute_result"
    }
   ],
   "source": [
    "#instantiaing and fitting SVD++ model of the trainset\n",
    "SVDpp_ns = SVDpp(random_state=42)\n",
    "SVDpp_ns.fit(new_data_no_supers.build_full_trainset())"
   ]
  },
  {
   "cell_type": "code",
   "execution_count": 89,
   "id": "4ffc7932",
   "metadata": {},
   "outputs": [],
   "source": [
    "#creating list of movies to get a ranking\n",
    "list_of_books_ns = []\n",
    "for m_id in rater_df_no_supers['Book Number'].unique():\n",
    "    list_of_books_ns.append((m_id,SVDpp_ns.predict(777, m_id)[3]))"
   ]
  },
  {
   "cell_type": "code",
   "execution_count": 90,
   "id": "826b630a",
   "metadata": {},
   "outputs": [],
   "source": [
    "#sorting the list of movies\n",
    "ranked_books_ns = sorted(list_of_books_ns, key=lambda x:x[1], reverse=True)"
   ]
  },
  {
   "cell_type": "code",
   "execution_count": 91,
   "id": "c246c4ca",
   "metadata": {},
   "outputs": [
    {
     "name": "stdout",
     "output_type": "stream",
     "text": [
      "Recommendation #  1 :  277523    Four Blind Mice\n",
      "Name: Title, dtype: object \n",
      "\n",
      "Recommendation #  2 :  204393    Coke Stop in Emo: Adventures of a Long-Distanc...\n",
      "Name: Title, dtype: object \n",
      "\n",
      "Recommendation #  3 :  252829    Weirdos From Another Planet!\n",
      "Name: Title, dtype: object \n",
      "\n",
      "Recommendation #  4 :  268022    Shooting at Loons (Deborah Knott Mysteries (Ha...\n",
      "Name: Title, dtype: object \n",
      "\n",
      "Recommendation #  5 :  260363    Insight Guide Bermuda (Insight Guides)\n",
      "Name: Title, dtype: object \n",
      "\n",
      "Recommendation #  6 :  153927    What Looks Like Crazy On An Ordinary Day\n",
      "Name: Title, dtype: object \n",
      "\n",
      "Recommendation #  7 :  167455    Anna Karenina\n",
      "Name: Title, dtype: object \n",
      "\n",
      "Recommendation #  8 :  27140    Pride and Prejudice\n",
      "Name: Title, dtype: object \n",
      "\n",
      "Recommendation #  9 :  7128    IN THE FLESH\n",
      "Name: Title, dtype: object \n",
      "\n",
      "Recommendation #  10 :  224525    A Man in Full\n",
      "Name: Title, dtype: object \n",
      "\n"
     ]
    }
   ],
   "source": [
    "#recommendations\n",
    "NS_recs = recommended_books(ranked_books_ns, nonanmaster, 10)"
   ]
  },
  {
   "cell_type": "markdown",
   "id": "995c1d92",
   "metadata": {},
   "source": [
    "-------\n",
    "## Conclusion\n"
   ]
  },
  {
   "cell_type": "markdown",
   "id": "8787b84b",
   "metadata": {},
   "source": [
    "Overall, Unshackled LLC recommends that by using our SVD++ model recommendation system, along with new users entering their personal ratings for 10 or more books, we can help encourage more readers to enjoy actual books they would like with a high degree of accuracy."
   ]
  }
 ],
 "metadata": {
  "kernelspec": {
   "display_name": "Python 3",
   "language": "python",
   "name": "python3"
  },
  "language_info": {
   "codemirror_mode": {
    "name": "ipython",
    "version": 3
   },
   "file_extension": ".py",
   "mimetype": "text/x-python",
   "name": "python",
   "nbconvert_exporter": "python",
   "pygments_lexer": "ipython3",
   "version": "3.8.5"
  }
 },
 "nbformat": 4,
 "nbformat_minor": 5
}
